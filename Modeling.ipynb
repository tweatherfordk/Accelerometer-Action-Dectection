{
 "cells": [
  {
   "cell_type": "markdown",
   "id": "aae4f23b",
   "metadata": {},
   "source": [
    "# Modeling"
   ]
  },
  {
   "cell_type": "code",
   "execution_count": 81,
   "id": "d5119910",
   "metadata": {},
   "outputs": [],
   "source": [
    "import pickle\n",
    "import numpy as np\n",
    "from sklearn.model_selection import train_test_split\n",
    "from sklearn.preprocessing import StandardScaler\n",
    "from tensorflow.keras.models import Sequential\n",
    "from tensorflow.keras.layers import Embedding, LSTM, Dense, Bidirectional"
   ]
  },
  {
   "cell_type": "markdown",
   "id": "33294a7b",
   "metadata": {},
   "source": [
    "## Load In Data"
   ]
  },
  {
   "cell_type": "markdown",
   "id": "22083362",
   "metadata": {},
   "source": [
    "### Y Data"
   ]
  },
  {
   "cell_type": "code",
   "execution_count": 82,
   "id": "72888a49",
   "metadata": {},
   "outputs": [
    {
     "name": "stdout",
     "output_type": "stream",
     "text": [
      "51\n",
      "51\n"
     ]
    }
   ],
   "source": [
    "#X Data\n",
    "with open('X.pkl','rb') as f:\n",
    "    X = pickle.load(f)\n",
    "    print(len(X))\n",
    "    \n",
    "#Y Data\n",
    "with open('Y.pkl','rb') as f:\n",
    "    Y = pickle.load(f)\n",
    "    print(len(Y))\n"
   ]
  },
  {
   "cell_type": "code",
   "execution_count": 83,
   "id": "80d79974",
   "metadata": {},
   "outputs": [],
   "source": [
    "X_train, X_test, y_train, y_test = train_test_split(X, Y, test_size=0.25, random_state=42)"
   ]
  },
  {
   "cell_type": "code",
   "execution_count": 84,
   "id": "803b7b41",
   "metadata": {},
   "outputs": [
    {
     "data": {
      "text/plain": [
       "array([[-8.9657059e+00, -8.9464569e+00, -9.0931015e+00, ...,\n",
       "         0.0000000e+00,  0.0000000e+00,  0.0000000e+00],\n",
       "       [-4.2739410e+00, -4.2424545e+00, -4.2462006e+00, ...,\n",
       "         0.0000000e+00,  0.0000000e+00,  0.0000000e+00],\n",
       "       [ 2.7397156e-02,  3.3378601e-02, -5.4862976e-02, ...,\n",
       "         0.0000000e+00,  0.0000000e+00,  0.0000000e+00],\n",
       "       ...,\n",
       "       [-1.2730175e-02, -5.8371192e-01,  5.4546839e-01, ...,\n",
       "         0.0000000e+00,  0.0000000e+00,  0.0000000e+00],\n",
       "       [ 1.3081874e-01, -7.4142410e-04, -5.0024819e-03, ...,\n",
       "         0.0000000e+00,  0.0000000e+00,  0.0000000e+00],\n",
       "       [-3.5824046e-02,  8.4550835e-02, -8.5358843e-02, ...,\n",
       "         0.0000000e+00,  0.0000000e+00,  0.0000000e+00]], dtype=float32)"
      ]
     },
     "execution_count": 84,
     "metadata": {},
     "output_type": "execute_result"
    }
   ],
   "source": [
    "X_train[0]"
   ]
  },
  {
   "cell_type": "code",
   "execution_count": 85,
   "id": "f1120cbe",
   "metadata": {},
   "outputs": [],
   "source": [
    "X_train_scaled, X_test_scaled = Scaler(X_train, X_test)"
   ]
  },
  {
   "cell_type": "code",
   "execution_count": 86,
   "id": "4174d9e9",
   "metadata": {},
   "outputs": [],
   "source": [
    "def Scaler(X_train, X_test):\n",
    "    scaler = StandardScaler()\n",
    "    X_train_scaled = []\n",
    "    X_test_scaled = []\n",
    "    for i in range(38):\n",
    "        scaler.fit(X_train[i])\n",
    "        X_train_scaled.append(scaler.transform(X_train[i]))\n",
    "    for i in range(13):\n",
    "        X_test_scaled.append(scaler.transform(X_test[i]))\n",
    "    return np.array(X_train_scaled), np.array(X_test_scaled)"
   ]
  },
  {
   "cell_type": "code",
   "execution_count": 87,
   "id": "1284e41f",
   "metadata": {},
   "outputs": [
    {
     "name": "stdout",
     "output_type": "stream",
     "text": [
      "X Train Shape:  (38, 12, 32409)\n",
      "X Test Shape:  (13, 12, 32409)\n",
      "Number of features:  12\n",
      "Number of observations:  32409\n"
     ]
    }
   ],
   "source": [
    "X_train_scaled, X_test_scaled = Scaler(X_train, X_test)\n",
    "print(\"X Train Shape: \", X_train_scaled.shape)\n",
    "print(\"X Test Shape: \", X_test_scaled.shape)\n",
    "print(\"Number of features: \", len(X[0]))\n",
    "print(\"Number of observations: \", len(X[0][0]))"
   ]
  },
  {
   "cell_type": "markdown",
   "id": "e129abcb",
   "metadata": {},
   "source": [
    "# Construct a Baseline Model"
   ]
  },
  {
   "cell_type": "code",
   "execution_count": 88,
   "id": "bcdceb70",
   "metadata": {},
   "outputs": [],
   "source": [
    "model = Sequential()\n",
    "model.add(LSTM(64, activation='relu', input_shape=(12, 32409)))\n",
    "model.add(Dense(1))\n",
    "model.compile(optimizer='adam', loss='mse')"
   ]
  },
  {
   "cell_type": "code",
   "execution_count": null,
   "id": "5d1c9fd1",
   "metadata": {},
   "outputs": [],
   "source": [
    "model.fit(X_train_scaled, y_train, epochs=10, batch_size=3,verbose=2)"
   ]
  },
  {
   "cell_type": "code",
   "execution_count": null,
   "id": "57be2402",
   "metadata": {},
   "outputs": [],
   "source": [
    "tf.keras.layers.InputLayer(\n",
    "    input_shape=None,\n",
    "    batch_size=None,\n",
    "    dtype=None,\n",
    "    input_tensor=None,\n",
    "    sparse=None,\n",
    "    name=None,\n",
    "    ragged=None,\n",
    "    type_spec=None,\n",
    "    **kwargs\n",
    ")"
   ]
  }
 ],
 "metadata": {
  "kernelspec": {
   "display_name": "Python (learn-env)",
   "language": "python",
   "name": "learn-env"
  },
  "language_info": {
   "codemirror_mode": {
    "name": "ipython",
    "version": 3
   },
   "file_extension": ".py",
   "mimetype": "text/x-python",
   "name": "python",
   "nbconvert_exporter": "python",
   "pygments_lexer": "ipython3",
   "version": "3.8.5"
  }
 },
 "nbformat": 4,
 "nbformat_minor": 5
}
