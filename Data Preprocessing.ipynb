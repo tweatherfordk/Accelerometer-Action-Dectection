{
 "cells": [
  {
   "cell_type": "code",
   "execution_count": 78,
   "id": "08b13dcb",
   "metadata": {},
   "outputs": [
    {
     "data": {
      "text/html": [
       "<div>\n",
       "<style scoped>\n",
       "    .dataframe tbody tr th:only-of-type {\n",
       "        vertical-align: middle;\n",
       "    }\n",
       "\n",
       "    .dataframe tbody tr th {\n",
       "        vertical-align: top;\n",
       "    }\n",
       "\n",
       "    .dataframe thead th {\n",
       "        text-align: right;\n",
       "    }\n",
       "</style>\n",
       "<table border=\"1\" class=\"dataframe\">\n",
       "  <thead>\n",
       "    <tr style=\"text-align: right;\">\n",
       "      <th></th>\n",
       "      <th>Patient ID</th>\n",
       "      <th>Activity Code</th>\n",
       "      <th>Time</th>\n",
       "      <th>X</th>\n",
       "      <th>Y</th>\n",
       "      <th>Z</th>\n",
       "    </tr>\n",
       "  </thead>\n",
       "  <tbody>\n",
       "    <tr>\n",
       "      <th>0</th>\n",
       "      <td>1600</td>\n",
       "      <td>A</td>\n",
       "      <td>252207666810782</td>\n",
       "      <td>-0.364761</td>\n",
       "      <td>8.793503</td>\n",
       "      <td>1.0550842;</td>\n",
       "    </tr>\n",
       "    <tr>\n",
       "      <th>1</th>\n",
       "      <td>1600</td>\n",
       "      <td>A</td>\n",
       "      <td>252207717164786</td>\n",
       "      <td>-0.879730</td>\n",
       "      <td>9.768784</td>\n",
       "      <td>1.0169983;</td>\n",
       "    </tr>\n",
       "    <tr>\n",
       "      <th>2</th>\n",
       "      <td>1600</td>\n",
       "      <td>A</td>\n",
       "      <td>252207767518790</td>\n",
       "      <td>2.001495</td>\n",
       "      <td>11.109070</td>\n",
       "      <td>2.619156;</td>\n",
       "    </tr>\n",
       "    <tr>\n",
       "      <th>3</th>\n",
       "      <td>1600</td>\n",
       "      <td>A</td>\n",
       "      <td>252207817872794</td>\n",
       "      <td>0.450623</td>\n",
       "      <td>12.651642</td>\n",
       "      <td>0.18455505;</td>\n",
       "    </tr>\n",
       "    <tr>\n",
       "      <th>4</th>\n",
       "      <td>1600</td>\n",
       "      <td>A</td>\n",
       "      <td>252207868226798</td>\n",
       "      <td>-2.164352</td>\n",
       "      <td>13.928436</td>\n",
       "      <td>-4.4224854;</td>\n",
       "    </tr>\n",
       "    <tr>\n",
       "      <th>...</th>\n",
       "      <td>...</td>\n",
       "      <td>...</td>\n",
       "      <td>...</td>\n",
       "      <td>...</td>\n",
       "      <td>...</td>\n",
       "      <td>...</td>\n",
       "    </tr>\n",
       "    <tr>\n",
       "      <th>64306</th>\n",
       "      <td>1600</td>\n",
       "      <td>S</td>\n",
       "      <td>244505660942200</td>\n",
       "      <td>-2.372223</td>\n",
       "      <td>9.242722</td>\n",
       "      <td>-1.5882874;</td>\n",
       "    </tr>\n",
       "    <tr>\n",
       "      <th>64307</th>\n",
       "      <td>1600</td>\n",
       "      <td>S</td>\n",
       "      <td>244505711296204</td>\n",
       "      <td>-2.046921</td>\n",
       "      <td>10.032288</td>\n",
       "      <td>-1.2299347;</td>\n",
       "    </tr>\n",
       "    <tr>\n",
       "      <th>64308</th>\n",
       "      <td>1600</td>\n",
       "      <td>S</td>\n",
       "      <td>244505761650208</td>\n",
       "      <td>-1.393539</td>\n",
       "      <td>9.883896</td>\n",
       "      <td>-0.47924805;</td>\n",
       "    </tr>\n",
       "    <tr>\n",
       "      <th>64309</th>\n",
       "      <td>1600</td>\n",
       "      <td>S</td>\n",
       "      <td>244505812004212</td>\n",
       "      <td>-1.230454</td>\n",
       "      <td>9.315079</td>\n",
       "      <td>-0.15570068;</td>\n",
       "    </tr>\n",
       "    <tr>\n",
       "      <th>64310</th>\n",
       "      <td>1600</td>\n",
       "      <td>S</td>\n",
       "      <td>244505862358216</td>\n",
       "      <td>-2.154221</td>\n",
       "      <td>9.777359</td>\n",
       "      <td>-0.62454224;</td>\n",
       "    </tr>\n",
       "  </tbody>\n",
       "</table>\n",
       "<p>64311 rows × 6 columns</p>\n",
       "</div>"
      ],
      "text/plain": [
       "       Patient ID Activity Code             Time         X          Y  \\\n",
       "0            1600             A  252207666810782 -0.364761   8.793503   \n",
       "1            1600             A  252207717164786 -0.879730   9.768784   \n",
       "2            1600             A  252207767518790  2.001495  11.109070   \n",
       "3            1600             A  252207817872794  0.450623  12.651642   \n",
       "4            1600             A  252207868226798 -2.164352  13.928436   \n",
       "...           ...           ...              ...       ...        ...   \n",
       "64306        1600             S  244505660942200 -2.372223   9.242722   \n",
       "64307        1600             S  244505711296204 -2.046921  10.032288   \n",
       "64308        1600             S  244505761650208 -1.393539   9.883896   \n",
       "64309        1600             S  244505812004212 -1.230454   9.315079   \n",
       "64310        1600             S  244505862358216 -2.154221   9.777359   \n",
       "\n",
       "                  Z  \n",
       "0        1.0550842;  \n",
       "1        1.0169983;  \n",
       "2         2.619156;  \n",
       "3       0.18455505;  \n",
       "4       -4.4224854;  \n",
       "...             ...  \n",
       "64306   -1.5882874;  \n",
       "64307   -1.2299347;  \n",
       "64308  -0.47924805;  \n",
       "64309  -0.15570068;  \n",
       "64310  -0.62454224;  \n",
       "\n",
       "[64311 rows x 6 columns]"
      ]
     },
     "execution_count": 78,
     "metadata": {},
     "output_type": "execute_result"
    }
   ],
   "source": [
    "import pandas as pd\n",
    "column_names = ['Patient ID', 'Activity Code', 'Time', 'X', 'Y', 'Z']\n",
    "read_file = pd.read_csv (r'../Accelerometer-Action-Dectection/wisdm-dataset/raw/phone/accel/data_1600_accel_phone.txt'\n",
    "                        , names=column_names)\n",
    "#read_file.to_csv (r'C:\\Users\\Ron\\Desktop\\Test\\New_Products.csv', index=None)\n",
    "read_file"
   ]
  },
  {
   "cell_type": "code",
   "execution_count": 93,
   "id": "973f54a8",
   "metadata": {
    "scrolled": true
   },
   "outputs": [
    {
     "data": {
      "text/html": [
       "<div>\n",
       "<style scoped>\n",
       "    .dataframe tbody tr th:only-of-type {\n",
       "        vertical-align: middle;\n",
       "    }\n",
       "\n",
       "    .dataframe tbody tr th {\n",
       "        vertical-align: top;\n",
       "    }\n",
       "\n",
       "    .dataframe thead th {\n",
       "        text-align: right;\n",
       "    }\n",
       "</style>\n",
       "<table border=\"1\" class=\"dataframe\">\n",
       "  <thead>\n",
       "    <tr style=\"text-align: right;\">\n",
       "      <th></th>\n",
       "      <th>Patient ID</th>\n",
       "      <th>Activity Code</th>\n",
       "      <th>Time</th>\n",
       "      <th>X</th>\n",
       "      <th>Y</th>\n",
       "      <th>Z</th>\n",
       "    </tr>\n",
       "  </thead>\n",
       "  <tbody>\n",
       "    <tr>\n",
       "      <th>0</th>\n",
       "      <td>1610</td>\n",
       "      <td>A</td>\n",
       "      <td>18687441561967</td>\n",
       "      <td>1.174957</td>\n",
       "      <td>13.347473</td>\n",
       "      <td>-4.0346375;</td>\n",
       "    </tr>\n",
       "    <tr>\n",
       "      <th>1</th>\n",
       "      <td>1610</td>\n",
       "      <td>A</td>\n",
       "      <td>18687491915971</td>\n",
       "      <td>1.408188</td>\n",
       "      <td>7.091858</td>\n",
       "      <td>-3.8957214;</td>\n",
       "    </tr>\n",
       "    <tr>\n",
       "      <th>2</th>\n",
       "      <td>1610</td>\n",
       "      <td>A</td>\n",
       "      <td>18687542269974</td>\n",
       "      <td>4.932510</td>\n",
       "      <td>6.306808</td>\n",
       "      <td>-2.3390045;</td>\n",
       "    </tr>\n",
       "    <tr>\n",
       "      <th>3</th>\n",
       "      <td>1610</td>\n",
       "      <td>A</td>\n",
       "      <td>18687592623978</td>\n",
       "      <td>0.154648</td>\n",
       "      <td>6.123505</td>\n",
       "      <td>-1.8314667;</td>\n",
       "    </tr>\n",
       "    <tr>\n",
       "      <th>4</th>\n",
       "      <td>1610</td>\n",
       "      <td>A</td>\n",
       "      <td>18687642977982</td>\n",
       "      <td>-2.826035</td>\n",
       "      <td>4.180542</td>\n",
       "      <td>-3.2118988;</td>\n",
       "    </tr>\n",
       "    <tr>\n",
       "      <th>...</th>\n",
       "      <td>...</td>\n",
       "      <td>...</td>\n",
       "      <td>...</td>\n",
       "      <td>...</td>\n",
       "      <td>...</td>\n",
       "      <td>...</td>\n",
       "    </tr>\n",
       "    <tr>\n",
       "      <th>80865</th>\n",
       "      <td>1610</td>\n",
       "      <td>S</td>\n",
       "      <td>17989031516129</td>\n",
       "      <td>5.946732</td>\n",
       "      <td>7.583008</td>\n",
       "      <td>-1.0972595;</td>\n",
       "    </tr>\n",
       "    <tr>\n",
       "      <th>80866</th>\n",
       "      <td>1610</td>\n",
       "      <td>S</td>\n",
       "      <td>17989081870133</td>\n",
       "      <td>5.818741</td>\n",
       "      <td>7.804871</td>\n",
       "      <td>-1.6237335;</td>\n",
       "    </tr>\n",
       "    <tr>\n",
       "      <th>80867</th>\n",
       "      <td>1610</td>\n",
       "      <td>S</td>\n",
       "      <td>17989132224137</td>\n",
       "      <td>5.530823</td>\n",
       "      <td>7.636093</td>\n",
       "      <td>-1.6626434;</td>\n",
       "    </tr>\n",
       "    <tr>\n",
       "      <th>80868</th>\n",
       "      <td>1610</td>\n",
       "      <td>S</td>\n",
       "      <td>17989182578141</td>\n",
       "      <td>5.802170</td>\n",
       "      <td>7.645752</td>\n",
       "      <td>-1.000412;</td>\n",
       "    </tr>\n",
       "    <tr>\n",
       "      <th>80869</th>\n",
       "      <td>1610</td>\n",
       "      <td>S</td>\n",
       "      <td>17989232932145</td>\n",
       "      <td>6.026535</td>\n",
       "      <td>7.688583</td>\n",
       "      <td>-1.0237274;</td>\n",
       "    </tr>\n",
       "  </tbody>\n",
       "</table>\n",
       "<p>80870 rows × 6 columns</p>\n",
       "</div>"
      ],
      "text/plain": [
       "       Patient ID Activity Code            Time         X          Y  \\\n",
       "0            1610             A  18687441561967  1.174957  13.347473   \n",
       "1            1610             A  18687491915971  1.408188   7.091858   \n",
       "2            1610             A  18687542269974  4.932510   6.306808   \n",
       "3            1610             A  18687592623978  0.154648   6.123505   \n",
       "4            1610             A  18687642977982 -2.826035   4.180542   \n",
       "...           ...           ...             ...       ...        ...   \n",
       "80865        1610             S  17989031516129  5.946732   7.583008   \n",
       "80866        1610             S  17989081870133  5.818741   7.804871   \n",
       "80867        1610             S  17989132224137  5.530823   7.636093   \n",
       "80868        1610             S  17989182578141  5.802170   7.645752   \n",
       "80869        1610             S  17989232932145  6.026535   7.688583   \n",
       "\n",
       "                 Z  \n",
       "0      -4.0346375;  \n",
       "1      -3.8957214;  \n",
       "2      -2.3390045;  \n",
       "3      -1.8314667;  \n",
       "4      -3.2118988;  \n",
       "...            ...  \n",
       "80865  -1.0972595;  \n",
       "80866  -1.6237335;  \n",
       "80867  -1.6626434;  \n",
       "80868   -1.000412;  \n",
       "80869  -1.0237274;  \n",
       "\n",
       "[80870 rows x 6 columns]"
      ]
     },
     "execution_count": 93,
     "metadata": {},
     "output_type": "execute_result"
    }
   ],
   "source": [
    "column_names = ['Patient ID', 'Activity Code', 'Time', 'X', 'Y', 'Z']\n",
    "read_file = pd.read_csv (r'../Accelerometer-Action-Dectection/wisdm-dataset/raw/phone/accel/data_1610_accel_phone.txt'\n",
    "                        , names=column_names)\n",
    "#read_file.to_csv (r'C:\\Users\\Ron\\Desktop\\Test\\New_Products.csv', index=None)\n",
    "read_file"
   ]
  },
  {
   "cell_type": "code",
   "execution_count": 112,
   "id": "a8c967f8",
   "metadata": {
    "scrolled": true
   },
   "outputs": [
    {
     "data": {
      "text/plain": [
       "0        NaN\n",
       "1        NaN\n",
       "2        NaN\n",
       "3        NaN\n",
       "4        NaN\n",
       "        ... \n",
       "80865    NaN\n",
       "80866    NaN\n",
       "80867    NaN\n",
       "80868    NaN\n",
       "80869    NaN\n",
       "Name: Activity Code, Length: 80870, dtype: object"
      ]
     },
     "execution_count": 112,
     "metadata": {},
     "output_type": "execute_result"
    }
   ],
   "source": [
    "read_file['Activity Code'].where(read_file['Activity Code'] == 'nan')"
   ]
  },
  {
   "cell_type": "code",
   "execution_count": 125,
   "id": "aabf1e50",
   "metadata": {},
   "outputs": [
    {
     "data": {
      "text/plain": [
       "0        NaN\n",
       "1        NaN\n",
       "2        NaN\n",
       "3        NaN\n",
       "4        NaN\n",
       "        ... \n",
       "80865    NaN\n",
       "80866    NaN\n",
       "80867    NaN\n",
       "80868    NaN\n",
       "80869    NaN\n",
       "Name: Activity Code, Length: 80870, dtype: object"
      ]
     },
     "execution_count": 125,
     "metadata": {},
     "output_type": "execute_result"
    }
   ],
   "source": [
    "read_file['Activity Code'].where(read_file['Activity Code'] == '')"
   ]
  },
  {
   "cell_type": "code",
   "execution_count": 122,
   "id": "e09cc7dd",
   "metadata": {},
   "outputs": [
    {
     "data": {
      "text/plain": [
       "'S'"
      ]
     },
     "execution_count": 122,
     "metadata": {},
     "output_type": "execute_result"
    }
   ],
   "source": [
    "read_file['Activity Code'][80869]"
   ]
  },
  {
   "cell_type": "code",
   "execution_count": 111,
   "id": "c43b2f63",
   "metadata": {},
   "outputs": [
    {
     "data": {
      "text/plain": [
       "False"
      ]
     },
     "execution_count": 111,
     "metadata": {},
     "output_type": "execute_result"
    }
   ],
   "source": [
    "read_file['Activity Code'].isnull().values.any()"
   ]
  },
  {
   "cell_type": "code",
   "execution_count": 106,
   "id": "6cd04db2",
   "metadata": {},
   "outputs": [
    {
     "data": {
      "text/plain": [
       "array(['A', 'B', 'C', 'D', 'E', 'F', 'G', 'H', 'I', 'J', 'K', 'L', 'M',\n",
       "       'O', 'P', 'Q', 'R', 'S'], dtype=object)"
      ]
     },
     "execution_count": 106,
     "metadata": {},
     "output_type": "execute_result"
    }
   ],
   "source": [
    "read_file['Activity Code'].unique()"
   ]
  },
  {
   "cell_type": "code",
   "execution_count": 79,
   "id": "14fb5301",
   "metadata": {},
   "outputs": [
    {
     "name": "stdout",
     "output_type": "stream",
     "text": [
      "<class 'pandas.core.frame.DataFrame'>\n",
      "RangeIndex: 64311 entries, 0 to 64310\n",
      "Data columns (total 6 columns):\n",
      " #   Column         Non-Null Count  Dtype  \n",
      "---  ------         --------------  -----  \n",
      " 0   Patient ID     64311 non-null  int64  \n",
      " 1   Activity Code  64311 non-null  object \n",
      " 2   Time           64311 non-null  int64  \n",
      " 3   X              64311 non-null  float64\n",
      " 4   Y              64311 non-null  float64\n",
      " 5   Z              64311 non-null  object \n",
      "dtypes: float64(2), int64(2), object(2)\n",
      "memory usage: 2.9+ MB\n"
     ]
    }
   ],
   "source": [
    "read_file.info()"
   ]
  },
  {
   "cell_type": "code",
   "execution_count": 80,
   "id": "d417b0ff",
   "metadata": {},
   "outputs": [],
   "source": [
    "import string"
   ]
  },
  {
   "cell_type": "code",
   "execution_count": 81,
   "id": "f1bd6d7f",
   "metadata": {},
   "outputs": [],
   "source": [
    "def strip_semicolon(text):\n",
    "    for asd in string.punctuation:\n",
    "        text = text.replace(';', '')\n",
    "    return text"
   ]
  },
  {
   "cell_type": "code",
   "execution_count": 82,
   "id": "3420f3f2",
   "metadata": {},
   "outputs": [],
   "source": [
    "read_file['Z'] = read_file['Z'].apply(strip_semicolon)\n",
    "read_file['Z'] = read_file['Z'].astype(float)"
   ]
  },
  {
   "cell_type": "code",
   "execution_count": 83,
   "id": "801b0c2c",
   "metadata": {},
   "outputs": [
    {
     "name": "stdout",
     "output_type": "stream",
     "text": [
      "<class 'pandas.core.frame.DataFrame'>\n",
      "RangeIndex: 64311 entries, 0 to 64310\n",
      "Data columns (total 6 columns):\n",
      " #   Column         Non-Null Count  Dtype  \n",
      "---  ------         --------------  -----  \n",
      " 0   Patient ID     64311 non-null  int64  \n",
      " 1   Activity Code  64311 non-null  object \n",
      " 2   Time           64311 non-null  int64  \n",
      " 3   X              64311 non-null  float64\n",
      " 4   Y              64311 non-null  float64\n",
      " 5   Z              64311 non-null  float64\n",
      "dtypes: float64(3), int64(2), object(1)\n",
      "memory usage: 2.9+ MB\n"
     ]
    }
   ],
   "source": [
    "read_file.info()"
   ]
  }
 ],
 "metadata": {
  "kernelspec": {
   "display_name": "Python (learn-env)",
   "language": "python",
   "name": "learn-env"
  },
  "language_info": {
   "codemirror_mode": {
    "name": "ipython",
    "version": 3
   },
   "file_extension": ".py",
   "mimetype": "text/x-python",
   "name": "python",
   "nbconvert_exporter": "python",
   "pygments_lexer": "ipython3",
   "version": "3.8.5"
  }
 },
 "nbformat": 4,
 "nbformat_minor": 5
}
