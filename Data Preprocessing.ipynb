{
 "cells": [
  {
   "cell_type": "code",
   "execution_count": 2,
   "id": "816444b1",
   "metadata": {},
   "outputs": [],
   "source": [
    "import numpy as np\n",
    "import tensorflow as tf\n",
    "from tensorflow import keras\n",
    "from sklearn.preprocessing import OneHotEncoder"
   ]
  },
  {
   "cell_type": "markdown",
   "id": "92373e3b",
   "metadata": {},
   "source": [
    "- Data is stored in a nested structure\n",
    "- Two parent folders, one for phone data, and one for watch data\n",
    "- Inside each are two more folders, one for accelerometer data, one for gyroscope data\n"
   ]
  },
  {
   "cell_type": "code",
   "execution_count": 3,
   "id": "22f2392c",
   "metadata": {},
   "outputs": [
    {
     "name": "stdout",
     "output_type": "stream",
     "text": [
      "../Accelerometer-Action-Dectection/wisdm-dataset/raw/phone/accel/data_1610_accel_phone.txt\n",
      "../Accelerometer-Action-Dectection/wisdm-dataset/raw/phone/gyro/data_1610_gyro_phone.txt\n",
      "../Accelerometer-Action-Dectection/wisdm-dataset/raw/watch/accel/data_1610_accel_watch.txt\n",
      "../Accelerometer-Action-Dectection/wisdm-dataset/raw/watch/gyro/data_1610_gyro_watch.txt\n"
     ]
    }
   ],
   "source": [
    "#Path Names\n",
    "participant_id = list(range(1600,1651))\n",
    "\n",
    "#Initialize empty lists for each pathname\n",
    "accel_phone = []\n",
    "gyro_phone = []\n",
    "accel_watch = []\n",
    "gyro_watch = []\n",
    "\n",
    "for i in participant_id:\n",
    "    accel_phone.append(f\"../Accelerometer-Action-Dectection/wisdm-dataset/raw/phone/accel/data_{i}_accel_phone.txt\")\n",
    "    gyro_phone.append(f\"../Accelerometer-Action-Dectection/wisdm-dataset/raw/phone/gyro/data_{i}_gyro_phone.txt\")\n",
    "    accel_watch.append(f\"../Accelerometer-Action-Dectection/wisdm-dataset/raw/watch/accel/data_{i}_accel_watch.txt\")\n",
    "    gyro_watch.append(f\"../Accelerometer-Action-Dectection/wisdm-dataset/raw/watch/gyro/data_{i}_gyro_watch.txt\")\n",
    "    \n",
    "#Check to see it worked\n",
    "print(accel_phone[10])\n",
    "print(gyro_phone[10])\n",
    "print(accel_watch[10])\n",
    "print(gyro_watch[10])"
   ]
  },
  {
   "cell_type": "code",
   "execution_count": 4,
   "id": "2a5f6e82",
   "metadata": {},
   "outputs": [],
   "source": [
    "def Clean_Lines(pathnames):\n",
    "    \n",
    "    #initialize empty list for data\n",
    "    master_list = []\n",
    "    \n",
    "    #iterate through each pathname\n",
    "    for i in pathnames:\n",
    "        infile = open(i, 'r') #open file\n",
    "        lines = infile.readlines() #read file line by line\n",
    "        \n",
    "        #empty list for each participant\n",
    "        clean_lines = []\n",
    "        \n",
    "        #clean up lines\n",
    "        for line in lines: \n",
    "            n_line = line.strip() #get rid of trailing newline characters at the end of the line\n",
    "            n_line = n_line.strip(';\\n') #get rid of trailing newline characters at the end of the line\n",
    "            n_line = n_line.split(',')  # separates line into a list of items split on commas\n",
    "            clean_lines.append(n_line) #add to data list\n",
    "            \n",
    "        #appened cleaned lines to master list, so that the list is organized by each individual participant\n",
    "        master_list.append(clean_lines)\n",
    "\n",
    "    #close the file\n",
    "    infile.close()\n",
    "    \n",
    "    #return clean_lines\n",
    "    return master_list"
   ]
  },
  {
   "cell_type": "code",
   "execution_count": 5,
   "id": "416b4cb2",
   "metadata": {},
   "outputs": [],
   "source": [
    "#apply function to each of the data folders\n",
    "accel_phone_data = Clean_Lines(accel_phone)\n",
    "gyro_phone_data = Clean_Lines(gyro_phone)\n",
    "accel_watch_data = Clean_Lines(accel_watch)\n",
    "gyro_watch_data = Clean_Lines(gyro_watch)"
   ]
  },
  {
   "cell_type": "code",
   "execution_count": 6,
   "id": "e164dd62",
   "metadata": {},
   "outputs": [
    {
     "data": {
      "text/plain": [
       "['1650', 'A', '2428077847903174', '-0.09590363', '-0.09410573', '0.012912337']"
      ]
     },
     "execution_count": 6,
     "metadata": {},
     "output_type": "execute_result"
    }
   ],
   "source": [
    "gyro_watch_data[50][1000]"
   ]
  },
  {
   "cell_type": "markdown",
   "id": "92caa39b",
   "metadata": {},
   "source": [
    "## Shorter Naming Conventions:\n",
    "- a = accelerometer\n",
    "- g = gryoscope\n",
    "- w = watch\n",
    "- p = phone\n",
    "- X = independent variable\n",
    "- Y = dependent variable, targets"
   ]
  },
  {
   "cell_type": "code",
   "execution_count": 7,
   "id": "a776907b",
   "metadata": {},
   "outputs": [],
   "source": [
    "def DataCreator(data):\n",
    "   \n",
    "    #initialize an empty list for each relevant variable\n",
    "    master_list = []\n",
    "    \n",
    "    #iterate through data and append each data point to it's relevant list for each row\n",
    "    #also convert data types from string\n",
    "    for user in data:\n",
    "        timestamp = []\n",
    "        X = []\n",
    "        Y = []\n",
    "        Z = []\n",
    "        for i in user:\n",
    "            timestamp.append(np.array(int(i[2])))\n",
    "            X.append(np.array(float(i[3])))\n",
    "            Y.append(np.array(float(i[4])))\n",
    "            Z.append(np.array(float(i[5])))\n",
    "        master_list.append(np.array([timestamp, X, Y, Z]))\n",
    "    \n",
    "    #convert list of lits to  numpy array for faster calculations and easier data access\n",
    "    return master_list"
   ]
  },
  {
   "cell_type": "code",
   "execution_count": 8,
   "id": "1fc6f05b",
   "metadata": {},
   "outputs": [],
   "source": [
    "#apply function to each data subdivision\n",
    "ap_data_X = DataCreator(accel_phone_data)\n",
    "gp_data_X = DataCreator(gyro_phone_data)\n",
    "aw_data_X = DataCreator(accel_watch_data)\n",
    "gw_data_X = DataCreator(gyro_watch_data)"
   ]
  },
  {
   "cell_type": "code",
   "execution_count": 9,
   "id": "f99ae8ee",
   "metadata": {},
   "outputs": [
    {
     "data": {
      "text/plain": [
       "51"
      ]
     },
     "execution_count": 9,
     "metadata": {},
     "output_type": "execute_result"
    }
   ],
   "source": [
    "#check to see that data is orgnaized by participant\n",
    "len(ap_data_X)"
   ]
  },
  {
   "cell_type": "code",
   "execution_count": 10,
   "id": "6729eb98",
   "metadata": {},
   "outputs": [
    {
     "data": {
      "text/plain": [
       "(4, 64311)"
      ]
     },
     "execution_count": 10,
     "metadata": {},
     "output_type": "execute_result"
    }
   ],
   "source": [
    "#check shape of individual participant data\n",
    "ap_data_X[0].shape"
   ]
  },
  {
   "cell_type": "markdown",
   "id": "3b2c1158",
   "metadata": {},
   "source": [
    "# Labels"
   ]
  },
  {
   "cell_type": "code",
   "execution_count": 16,
   "id": "1bcc7c9b",
   "metadata": {},
   "outputs": [],
   "source": [
    "def LabelCreator(data):\n",
    "    \n",
    "    #intialize empty lists\n",
    "    master_list = []\n",
    "    \n",
    "    #iterate and append relevant information by row\n",
    "    for user in data:\n",
    "        timestamp = []\n",
    "        activity = []\n",
    "        participant = []\n",
    "        \n",
    "        for i in user:\n",
    "            timestamp.append(int(i[2]))\n",
    "            activity.append(i[1])\n",
    "            participant.append(i[0])\n",
    "        master_list.append(np.array([timestamp, activity, participant]))\n",
    "    #return numpy array\n",
    "    return master_list"
   ]
  },
  {
   "cell_type": "code",
   "execution_count": 17,
   "id": "81d56e0d",
   "metadata": {},
   "outputs": [],
   "source": [
    "ap_labels_Y = LabelCreator(accel_phone_data)\n",
    "gp_labels_Y = LabelCreator(gyro_phone_data)\n",
    "aw_labels_Y = LabelCreator(accel_watch_data)\n",
    "gw_labels_Y = LabelCreator(gyro_watch_data)"
   ]
  },
  {
   "cell_type": "markdown",
   "id": "8699d047",
   "metadata": {},
   "source": [
    "# Padding\n",
    "- Although each participant performed each activity for ~3 minutes, the exact number of data points differ slightly\n",
    "- The length of the arrays needs to be standardized to feed into the model\n",
    "- This can be done through padding them with zeros"
   ]
  },
  {
   "cell_type": "code",
   "execution_count": 18,
   "id": "4146a1f8",
   "metadata": {},
   "outputs": [],
   "source": [
    "def Length(data):\n",
    "    data_length = []\n",
    "    for user in data:\n",
    "        data_length.append(len(user[0]))\n",
    "    return data_length"
   ]
  },
  {
   "cell_type": "code",
   "execution_count": 19,
   "id": "ea86c1d6",
   "metadata": {},
   "outputs": [
    {
     "name": "stdout",
     "output_type": "stream",
     "text": [
      "AP max length:  163768\n",
      "GP max length:  128500\n",
      "AW max length:  160799\n",
      "GW max length:  129738\n"
     ]
    }
   ],
   "source": [
    "#Check maximum lengths for each type of data (gyroscope, accelerometer, watch, phone)\n",
    "length_ap = Length(ap_data_X)\n",
    "length_ap.sort()\n",
    "print(\"AP max length: \", length_ap[-1])\n",
    "\n",
    "length_gp = Length(gp_data_X)\n",
    "length_gp.sort()\n",
    "print(\"GP max length: \", length_gp[-1])\n",
    "\n",
    "length_aw = Length(aw_data_X)\n",
    "length_aw.sort()\n",
    "print(\"AW max length: \", length_aw[-1])\n",
    "\n",
    "length_gw = Length(gw_data_X)\n",
    "length_gw.sort()\n",
    "print(\"GW max length: \", length_gw[-1])"
   ]
  },
  {
   "cell_type": "markdown",
   "id": "0b7e3384",
   "metadata": {},
   "source": [
    "## Max Length\n",
    "- 163,768 is the maximum number of entries out of all of the data types and participants\n",
    "- It is the number we will used to pad the length of each entry\n",
    "\n",
    "## Reformatting Data to Extract only Relevant Details\n",
    "- We want the X, Y, Z data from each data type's independent variable data\n",
    "- And we want the activity label class from the dependent variable\n",
    "- Because each participant's 54 minutes of data (~3 minutes per activity) will be padded to idnentical seqeunce lenghts with their associated labe;s, the time stamps become irrelevant\n",
    "- the timestamps in this data set were not synchronous among participants, though the amount of time spent performing each activity was roughly the same"
   ]
  },
  {
   "cell_type": "code",
   "execution_count": 20,
   "id": "1c3b1722",
   "metadata": {},
   "outputs": [],
   "source": [
    "def DataExtractor(data):\n",
    "    master_list = []\n",
    "    \n",
    "    for user in data:\n",
    "        master_list.append(user[1:4]) # The X, Y, Z columns\n",
    "    return master_list"
   ]
  },
  {
   "cell_type": "code",
   "execution_count": 21,
   "id": "412890df",
   "metadata": {},
   "outputs": [],
   "source": [
    "X_ap = DataExtractor(ap_data_X)\n",
    "X_gp = DataExtractor(gp_data_X)\n",
    "X_aw = DataExtractor(aw_data_X)\n",
    "X_gw = DataExtractor(gw_data_X)"
   ]
  },
  {
   "cell_type": "code",
   "execution_count": 22,
   "id": "7136ba26",
   "metadata": {},
   "outputs": [],
   "source": [
    "def Padding(data):\n",
    "    master_list = []\n",
    "    \n",
    "    for user in data:\n",
    "        pad = keras.preprocessing.sequence.pad_sequences(user, padding = \"post\", maxlen = 163768, dtype='float32')\n",
    "        master_list.append(pad)\n",
    "    return master_list"
   ]
  },
  {
   "cell_type": "code",
   "execution_count": 23,
   "id": "23d3ad2c",
   "metadata": {},
   "outputs": [],
   "source": [
    "X_ap_clean = Padding(X_ap)\n",
    "X_gp_clean = Padding(X_gp)\n",
    "X_aw_clean = Padding(X_aw)\n",
    "X_gw_clean = Padding(X_gw)"
   ]
  },
  {
   "cell_type": "code",
   "execution_count": 24,
   "id": "d72ae4bb",
   "metadata": {},
   "outputs": [
    {
     "data": {
      "text/plain": [
       "163768"
      ]
     },
     "execution_count": 24,
     "metadata": {},
     "output_type": "execute_result"
    }
   ],
   "source": [
    "len(X_gw_clean[0][1])"
   ]
  },
  {
   "cell_type": "markdown",
   "id": "095d5776",
   "metadata": {},
   "source": [
    "## Labels"
   ]
  },
  {
   "cell_type": "code",
   "execution_count": 25,
   "id": "e7a01e19",
   "metadata": {},
   "outputs": [],
   "source": [
    "#Get labels for each time stamp\n",
    "def LabelExtractor(data):\n",
    "    master_list = []\n",
    "    \n",
    "    for user in data:\n",
    "        master_list.append(user[1]) # Activity Label Column\n",
    "    return master_list"
   ]
  },
  {
   "cell_type": "code",
   "execution_count": 26,
   "id": "bb181e75",
   "metadata": {},
   "outputs": [],
   "source": [
    "Y_ap = LabelExtractor(ap_labels_Y)\n",
    "Y_gp = LabelExtractor(gp_labels_Y)\n",
    "Y_aw = LabelExtractor(aw_labels_Y)\n",
    "Y_gw = LabelExtractor(gw_labels_Y)"
   ]
  },
  {
   "cell_type": "code",
   "execution_count": 29,
   "id": "3d25f5fb",
   "metadata": {},
   "outputs": [
    {
     "data": {
      "text/plain": [
       "array(['A', 'A', 'A', ..., 'S', 'S', 'S'], dtype='<U21')"
      ]
     },
     "execution_count": 29,
     "metadata": {},
     "output_type": "execute_result"
    }
   ],
   "source": [
    "Y_ap[0]"
   ]
  },
  {
   "cell_type": "code",
   "execution_count": null,
   "id": "90562f31",
   "metadata": {},
   "outputs": [],
   "source": [
    "test = keras.preprocessing.sequence.pad_sequences(Y_ap[0], padding = \"post\", maxlen = 163768, dtype='str')"
   ]
  },
  {
   "cell_type": "code",
   "execution_count": 28,
   "id": "a12b529e",
   "metadata": {},
   "outputs": [],
   "source": [
    "def Padding_Labels(data):\n",
    "    master_list = []\n",
    "    \n",
    "    for user in data:\n",
    "        pad = keras.preprocessing.sequence.pad_sequences(user, padding = \"post\", maxlen = 163768, dtype='str')\n",
    "        master_list.append(pad)\n",
    "        \n",
    "    return master_list"
   ]
  },
  {
   "cell_type": "code",
   "execution_count": null,
   "id": "a7f65d9d",
   "metadata": {},
   "outputs": [],
   "source": [
    "Y_ap_pad = Padding_Labels(Y_ap)"
   ]
  },
  {
   "cell_type": "code",
   "execution_count": null,
   "id": "0823466c",
   "metadata": {},
   "outputs": [],
   "source": [
    "Y_ap_pad"
   ]
  },
  {
   "cell_type": "code",
   "execution_count": 1,
   "id": "3bc23951",
   "metadata": {},
   "outputs": [
    {
     "ename": "NameError",
     "evalue": "name 'Padding' is not defined",
     "output_type": "error",
     "traceback": [
      "\u001b[0;31m---------------------------------------------------------------------------\u001b[0m",
      "\u001b[0;31mNameError\u001b[0m                                 Traceback (most recent call last)",
      "\u001b[0;32m<ipython-input-1-c2d3927f28d4>\u001b[0m in \u001b[0;36m<module>\u001b[0;34m\u001b[0m\n\u001b[0;32m----> 1\u001b[0;31m \u001b[0mY_ap_pad\u001b[0m \u001b[0;34m=\u001b[0m \u001b[0mPadding\u001b[0m\u001b[0;34m(\u001b[0m\u001b[0mY_ap\u001b[0m\u001b[0;34m)\u001b[0m\u001b[0;34m\u001b[0m\u001b[0;34m\u001b[0m\u001b[0m\n\u001b[0m\u001b[1;32m      2\u001b[0m \u001b[0mY_gp_pad\u001b[0m \u001b[0;34m=\u001b[0m \u001b[0mPadding\u001b[0m\u001b[0;34m(\u001b[0m\u001b[0mY_gp\u001b[0m\u001b[0;34m)\u001b[0m\u001b[0;34m\u001b[0m\u001b[0;34m\u001b[0m\u001b[0m\n\u001b[1;32m      3\u001b[0m \u001b[0mY_aw_pad\u001b[0m \u001b[0;34m=\u001b[0m \u001b[0mPadding\u001b[0m\u001b[0;34m(\u001b[0m\u001b[0mY_aw\u001b[0m\u001b[0;34m)\u001b[0m\u001b[0;34m\u001b[0m\u001b[0;34m\u001b[0m\u001b[0m\n\u001b[1;32m      4\u001b[0m \u001b[0mY_gp_pad\u001b[0m \u001b[0;34m=\u001b[0m \u001b[0mPadding\u001b[0m\u001b[0;34m(\u001b[0m\u001b[0mY_gp\u001b[0m\u001b[0;34m)\u001b[0m\u001b[0;34m\u001b[0m\u001b[0;34m\u001b[0m\u001b[0m\n",
      "\u001b[0;31mNameError\u001b[0m: name 'Padding' is not defined"
     ]
    }
   ],
   "source": [
    "Y_ap_pad = Padding_Labels(Y_ap)\n",
    "Y_gp_pad = Padding_Labels(Y_gp)\n",
    "Y_aw_pad = Padding_Labels(Y_aw)\n",
    "Y_gp_pad = Padding_Labels(Y_gp)"
   ]
  },
  {
   "cell_type": "code",
   "execution_count": 181,
   "id": "50d7064f",
   "metadata": {
    "scrolled": true
   },
   "outputs": [
    {
     "data": {
      "text/plain": [
       "64311"
      ]
     },
     "execution_count": 181,
     "metadata": {},
     "output_type": "execute_result"
    }
   ],
   "source": [
    "len(Y_ap[0])"
   ]
  },
  {
   "cell_type": "code",
   "execution_count": 234,
   "id": "388b184b",
   "metadata": {},
   "outputs": [],
   "source": [
    "def OHE(data):\n",
    "    ohe = OneHotEncoder()\n",
    "    master_list = []\n",
    "    for user in data:\n",
    "        sparse_matrix = ohe.fit_transform(Y_ap[0].reshape(-1, 1))\n",
    "        master_list.append(sparse_matrix)\n",
    "    return master_list"
   ]
  },
  {
   "cell_type": "code",
   "execution_count": 41,
   "id": "8d8bf7e8",
   "metadata": {},
   "outputs": [
    {
     "ename": "NameError",
     "evalue": "name 'OHE' is not defined",
     "output_type": "error",
     "traceback": [
      "\u001b[0;31m---------------------------------------------------------------------------\u001b[0m",
      "\u001b[0;31mNameError\u001b[0m                                 Traceback (most recent call last)",
      "\u001b[0;32m<ipython-input-41-b54480253131>\u001b[0m in \u001b[0;36m<module>\u001b[0;34m\u001b[0m\n\u001b[0;32m----> 1\u001b[0;31m \u001b[0mtest3\u001b[0m \u001b[0;34m=\u001b[0m \u001b[0mOHE\u001b[0m\u001b[0;34m(\u001b[0m\u001b[0mY_ap\u001b[0m\u001b[0;34m)\u001b[0m\u001b[0;34m\u001b[0m\u001b[0;34m\u001b[0m\u001b[0m\n\u001b[0m",
      "\u001b[0;31mNameError\u001b[0m: name 'OHE' is not defined"
     ]
    }
   ],
   "source": [
    "test3 = OHE(Y_ap)"
   ]
  },
  {
   "cell_type": "code",
   "execution_count": 40,
   "id": "e769ddb7",
   "metadata": {},
   "outputs": [
    {
     "ename": "NameError",
     "evalue": "name 'test3' is not defined",
     "output_type": "error",
     "traceback": [
      "\u001b[0;31m---------------------------------------------------------------------------\u001b[0m",
      "\u001b[0;31mNameError\u001b[0m                                 Traceback (most recent call last)",
      "\u001b[0;32m<ipython-input-40-b2a985425e23>\u001b[0m in \u001b[0;36m<module>\u001b[0;34m\u001b[0m\n\u001b[0;32m----> 1\u001b[0;31m \u001b[0mlen\u001b[0m\u001b[0;34m(\u001b[0m\u001b[0mtest3\u001b[0m\u001b[0;34m[\u001b[0m\u001b[0;36m0\u001b[0m\u001b[0;34m]\u001b[0m\u001b[0;34m.\u001b[0m\u001b[0mtodense\u001b[0m\u001b[0;34m(\u001b[0m\u001b[0;34m)\u001b[0m\u001b[0;34m)\u001b[0m\u001b[0;34m\u001b[0m\u001b[0;34m\u001b[0m\u001b[0m\n\u001b[0m",
      "\u001b[0;31mNameError\u001b[0m: name 'test3' is not defined"
     ]
    }
   ],
   "source": [
    "len(test3[0].todense())"
   ]
  },
  {
   "cell_type": "code",
   "execution_count": 33,
   "id": "a75c55b2",
   "metadata": {},
   "outputs": [],
   "source": [
    "ohe = OneHotEncoder(sparse = False)"
   ]
  },
  {
   "cell_type": "code",
   "execution_count": 34,
   "id": "7d186acf",
   "metadata": {},
   "outputs": [],
   "source": [
    "test = ohe.fit_transform(test.reshape(-1, 1))"
   ]
  },
  {
   "cell_type": "code",
   "execution_count": 39,
   "id": "b9275d84",
   "metadata": {},
   "outputs": [
    {
     "data": {
      "text/plain": [
       "19"
      ]
     },
     "execution_count": 39,
     "metadata": {},
     "output_type": "execute_result"
    }
   ],
   "source": [
    "len(test[0])"
   ]
  },
  {
   "cell_type": "code",
   "execution_count": 38,
   "id": "4bc8ab4b",
   "metadata": {},
   "outputs": [
    {
     "ename": "AttributeError",
     "evalue": "'numpy.ndarray' object has no attribute 'categories_'",
     "output_type": "error",
     "traceback": [
      "\u001b[0;31m---------------------------------------------------------------------------\u001b[0m",
      "\u001b[0;31mAttributeError\u001b[0m                            Traceback (most recent call last)",
      "\u001b[0;32m<ipython-input-38-0a16d50bbfbf>\u001b[0m in \u001b[0;36m<module>\u001b[0;34m\u001b[0m\n\u001b[0;32m----> 1\u001b[0;31m \u001b[0mtest\u001b[0m\u001b[0;34m.\u001b[0m\u001b[0mcategories_\u001b[0m\u001b[0;34m\u001b[0m\u001b[0;34m\u001b[0m\u001b[0m\n\u001b[0m",
      "\u001b[0;31mAttributeError\u001b[0m: 'numpy.ndarray' object has no attribute 'categories_'"
     ]
    }
   ],
   "source": [
    "test.categories_"
   ]
  },
  {
   "cell_type": "code",
   "execution_count": 214,
   "id": "4a5c78a5",
   "metadata": {},
   "outputs": [
    {
     "data": {
      "text/plain": [
       "<bound method OneHotEncoder.transform of OneHotEncoder()>"
      ]
     },
     "execution_count": 214,
     "metadata": {},
     "output_type": "execute_result"
    }
   ],
   "source": [
    "test.transform"
   ]
  },
  {
   "cell_type": "code",
   "execution_count": null,
   "id": "c99daa3c",
   "metadata": {},
   "outputs": [],
   "source": [
    "enc = OneHotEncoder(handle_unknown='ignore')\n",
    ">>> X = [['Male', 1], ['Female', 3], ['Female', 2]]\n",
    ">>> enc.fit(X)\n",
    "OneHotEncoder(handle_unknown='ignore')\n",
    ">>> enc.categories_\n",
    "[array(['Female', 'Male'], dtype=object), array([1, 2, 3], dtype=object)]\n",
    ">>> enc.transform([['Female', 1], ['Male', 4]]).toarray()\n",
    "array([[1., 0., 1., 0., 0.],\n",
    "       [0., 1., 0., 0., 0.]])\n",
    ">>> enc.inverse_transform([[0, 1, 1, 0, 0], [0, 0, 0, 1, 0]])\n",
    "array([['Male', 1],\n",
    "       [None, 2]], dtype=object)\n",
    ">>> enc.get_feature_names_out(['gender', 'group'])\n",
    "array(['gender_Female', 'gender_Male', 'group_1', 'group_2', 'group_3'], ...)"
   ]
  }
 ],
 "metadata": {
  "kernelspec": {
   "display_name": "Python (learn-env)",
   "language": "python",
   "name": "learn-env"
  },
  "language_info": {
   "codemirror_mode": {
    "name": "ipython",
    "version": 3
   },
   "file_extension": ".py",
   "mimetype": "text/x-python",
   "name": "python",
   "nbconvert_exporter": "python",
   "pygments_lexer": "ipython3",
   "version": "3.8.5"
  }
 },
 "nbformat": 4,
 "nbformat_minor": 5
}
