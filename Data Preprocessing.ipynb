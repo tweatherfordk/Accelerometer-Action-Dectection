{
 "cells": [
  {
   "cell_type": "code",
   "execution_count": 5,
   "id": "02bd7a73",
   "metadata": {},
   "outputs": [],
   "source": [
    "import numpy as np\n",
    "import pandas as pd\n",
    "import tensorflow as tf\n",
    "from tensorflow import keras\n",
    "import matplotlib.pyplot as plt\n",
    "from sklearn.preprocessing import LabelEncoder \n",
    "from sklearn.preprocessing import OneHotEncoder\n",
    "import pickle"
   ]
  },
  {
   "cell_type": "markdown",
   "id": "3f2364ad",
   "metadata": {},
   "source": [
    "- Data is stored in a nested structure\n",
    "- Two parent folders, one for phone data, and one for watch data\n",
    "- Inside each are two more folders, one for accelerometer data, one for gyroscope data\n"
   ]
  },
  {
   "cell_type": "markdown",
   "id": "58e3c3fa",
   "metadata": {},
   "source": [
    "# Naming Conventions:\n",
    "- a = accelerometer\n",
    "- g = gryoscope\n",
    "- w = watch\n",
    "- p = phone\n",
    "- X = independent variable\n",
    "- Y = dependent variable, targets"
   ]
  },
  {
   "cell_type": "code",
   "execution_count": 6,
   "id": "1bdbbb1b",
   "metadata": {},
   "outputs": [
    {
     "name": "stdout",
     "output_type": "stream",
     "text": [
      "../Accelerometer-Action-Dectection/wisdm-dataset/raw/phone/accel/data_1610_accel_phone.txt\n",
      "../Accelerometer-Action-Dectection/wisdm-dataset/raw/phone/gyro/data_1610_gyro_phone.txt\n",
      "../Accelerometer-Action-Dectection/wisdm-dataset/raw/watch/accel/data_1610_accel_watch.txt\n",
      "../Accelerometer-Action-Dectection/wisdm-dataset/raw/watch/gyro/data_1610_gyro_watch.txt\n"
     ]
    }
   ],
   "source": [
    "#Path Names\n",
    "participant_id = list(range(1600,1651))\n",
    "\n",
    "#Initialize empty lists for each pathname\n",
    "accel_phone = []\n",
    "gyro_phone = []\n",
    "accel_watch = []\n",
    "gyro_watch = []\n",
    "\n",
    "for i in participant_id:\n",
    "    accel_phone.append(f\"../Accelerometer-Action-Dectection/wisdm-dataset/raw/phone/accel/data_{i}_accel_phone.txt\")\n",
    "    gyro_phone.append(f\"../Accelerometer-Action-Dectection/wisdm-dataset/raw/phone/gyro/data_{i}_gyro_phone.txt\")\n",
    "    accel_watch.append(f\"../Accelerometer-Action-Dectection/wisdm-dataset/raw/watch/accel/data_{i}_accel_watch.txt\")\n",
    "    gyro_watch.append(f\"../Accelerometer-Action-Dectection/wisdm-dataset/raw/watch/gyro/data_{i}_gyro_watch.txt\")\n",
    "    \n",
    "#Check to see it worked\n",
    "print(accel_phone[10])\n",
    "print(gyro_phone[10])\n",
    "print(accel_watch[10])\n",
    "print(gyro_watch[10])"
   ]
  },
  {
   "cell_type": "code",
   "execution_count": 7,
   "id": "46ed53b6",
   "metadata": {},
   "outputs": [],
   "source": [
    "def Clean_Lines(pathnames):\n",
    "    \n",
    "    #initialize empty list for data\n",
    "    master_list = []\n",
    "    \n",
    "    #iterate through each pathname\n",
    "    for i in pathnames:\n",
    "        infile = open(i, 'r') #open file\n",
    "        lines = infile.readlines() #read file line by line\n",
    "        \n",
    "        #empty list for each participant\n",
    "        clean_lines = []\n",
    "        \n",
    "        #clean up lines\n",
    "        for line in lines: \n",
    "            n_line = line.strip() #get rid of trailing newline characters at the end of the line\n",
    "            n_line = n_line.strip(';\\n') #get rid of trailing newline characters at the end of the line\n",
    "            n_line = n_line.split(',')  # separates line into a list of items split on commas\n",
    "            clean_lines.append(n_line) #add to data list\n",
    "            \n",
    "        #appened cleaned lines to master list, so that the list is organized by each individual participant\n",
    "        master_list.append(clean_lines)\n",
    "\n",
    "    #close the file\n",
    "    infile.close()\n",
    "    \n",
    "    #return clean_lines\n",
    "    return master_list"
   ]
  },
  {
   "cell_type": "code",
   "execution_count": 8,
   "id": "5441ece0",
   "metadata": {},
   "outputs": [],
   "source": [
    "#apply function to each of the data folders\n",
    "ap_data = Clean_Lines(accel_phone)\n",
    "gp_data = Clean_Lines(gyro_phone)\n",
    "aw_data = Clean_Lines(accel_watch)\n",
    "gw_data = Clean_Lines(gyro_watch)"
   ]
  },
  {
   "cell_type": "code",
   "execution_count": 9,
   "id": "5c4c85f7",
   "metadata": {},
   "outputs": [],
   "source": [
    "#Create Function to Clean Up Timestamps\n",
    "def TimestampClean(cell):\n",
    "        return  round((float(cell[0:-8] + '.'+ cell[-8:])), 0)"
   ]
  },
  {
   "cell_type": "code",
   "execution_count": 10,
   "id": "c9bd57b6",
   "metadata": {},
   "outputs": [],
   "source": [
    "def MakeDataFrame(data):\n",
    "    df = pd.DataFrame(data, columns = ['Participant ID','Activity Label','Timestamp', 'X', 'Y', 'Z'])\n",
    "    df[\"Timestamp\"] = df[\"Timestamp\"].apply(TimestampClean)\n",
    "    df['X'] = df['X'].astype('float')\n",
    "    df['Y'] = df['Y'].astype('float')\n",
    "    df['Z'] = df['Z'].astype('float')\n",
    "    df = df.sort_values(by=['Timestamp'])\n",
    "    df = df.groupby(['Timestamp']).agg({'Participant ID':'first', 'Activity Label':'first', \n",
    "                'X':'mean', 'Y':'mean', 'Z':'mean'})\n",
    "    df = df.reset_index()\n",
    "    return df"
   ]
  },
  {
   "cell_type": "code",
   "execution_count": 11,
   "id": "c35ad7af",
   "metadata": {},
   "outputs": [],
   "source": [
    "def DataMerge(df_ap, df_gp, df_aw, df_gw):\n",
    "    merge1 = df_ap.merge(df_gp, left_on='Timestamp', right_on='Timestamp',\n",
    "          suffixes=('_ap', '_gp'))\n",
    "    merge2 = df_aw.merge(df_gw, left_on='Timestamp', right_on='Timestamp',\n",
    "          suffixes=('_aw', '_gw'))\n",
    "    merge3 = pd.concat([merge1, merge2], axis=1)\n",
    "    \n",
    "    #Drop unnecessary columns\n",
    "    merge3 = merge3.drop(['Participant ID_gp', 'Participant ID_aw', 'Participant ID_gw','Activity Label_gp',\n",
    "                    'Activity Label_aw', 'Activity Label_gw'], axis=1) #drop explicitly named columns\n",
    "    merge3 = merge3.drop(merge3.columns[[9]],axis = 1) #Redundancy in Timestamp due to the final merge, drop by index\n",
    "    \n",
    "    merge3 = merge3.fillna(method='ffill')\n",
    "    return merge3"
   ]
  },
  {
   "cell_type": "code",
   "execution_count": 12,
   "id": "f2bb1c2e",
   "metadata": {},
   "outputs": [],
   "source": [
    "participant_number = range(51)\n",
    "participant_list = []\n",
    "for i in participant_number:\n",
    "    #participant_list.append(MakeDataFrame(ap_data[i]))\n",
    "    df_ap = MakeDataFrame(ap_data[i])\n",
    "    df_gp = MakeDataFrame(gp_data[i])\n",
    "    df_aw = MakeDataFrame(aw_data[i])\n",
    "    df_gw = MakeDataFrame(gw_data[i])\n",
    "    \n",
    "    participant_list.append(DataMerge(df_ap, df_gp, df_aw, df_gw))"
   ]
  },
  {
   "cell_type": "code",
   "execution_count": 13,
   "id": "111b1352",
   "metadata": {
    "scrolled": false
   },
   "outputs": [
    {
     "data": {
      "text/plain": [
       "32391"
      ]
     },
     "execution_count": 13,
     "metadata": {},
     "output_type": "execute_result"
    }
   ],
   "source": [
    "len(participant_list[50])"
   ]
  },
  {
   "cell_type": "code",
   "execution_count": 14,
   "id": "78b45b68",
   "metadata": {},
   "outputs": [
    {
     "data": {
      "text/html": [
       "<div>\n",
       "<style scoped>\n",
       "    .dataframe tbody tr th:only-of-type {\n",
       "        vertical-align: middle;\n",
       "    }\n",
       "\n",
       "    .dataframe tbody tr th {\n",
       "        vertical-align: top;\n",
       "    }\n",
       "\n",
       "    .dataframe thead th {\n",
       "        text-align: right;\n",
       "    }\n",
       "</style>\n",
       "<table border=\"1\" class=\"dataframe\">\n",
       "  <thead>\n",
       "    <tr style=\"text-align: right;\">\n",
       "      <th></th>\n",
       "      <th>Participant ID_ap</th>\n",
       "      <th>Activity Label_ap</th>\n",
       "      <th>X_ap</th>\n",
       "      <th>Y_ap</th>\n",
       "      <th>Z_ap</th>\n",
       "      <th>X_gp</th>\n",
       "      <th>Y_gp</th>\n",
       "      <th>Z_gp</th>\n",
       "      <th>X_aw</th>\n",
       "      <th>Y_aw</th>\n",
       "      <th>Z_aw</th>\n",
       "      <th>X_gw</th>\n",
       "      <th>Y_gw</th>\n",
       "      <th>Z_gw</th>\n",
       "    </tr>\n",
       "  </thead>\n",
       "  <tbody>\n",
       "    <tr>\n",
       "      <th>0</th>\n",
       "      <td>1600</td>\n",
       "      <td>D</td>\n",
       "      <td>3.258324</td>\n",
       "      <td>5.493607</td>\n",
       "      <td>6.634514</td>\n",
       "      <td>-0.060081</td>\n",
       "      <td>0.017090</td>\n",
       "      <td>-0.062134</td>\n",
       "      <td>2.851195</td>\n",
       "      <td>-2.246360</td>\n",
       "      <td>12.376376</td>\n",
       "      <td>-1.636556</td>\n",
       "      <td>-1.407051</td>\n",
       "      <td>-1.757183</td>\n",
       "    </tr>\n",
       "    <tr>\n",
       "      <th>1</th>\n",
       "      <td>1600</td>\n",
       "      <td>D</td>\n",
       "      <td>2.946350</td>\n",
       "      <td>5.244820</td>\n",
       "      <td>6.667236</td>\n",
       "      <td>-0.257187</td>\n",
       "      <td>-0.057037</td>\n",
       "      <td>-0.097466</td>\n",
       "      <td>2.381931</td>\n",
       "      <td>-2.665345</td>\n",
       "      <td>11.951406</td>\n",
       "      <td>-0.146784</td>\n",
       "      <td>-0.948455</td>\n",
       "      <td>-0.025063</td>\n",
       "    </tr>\n",
       "    <tr>\n",
       "      <th>2</th>\n",
       "      <td>1600</td>\n",
       "      <td>D</td>\n",
       "      <td>2.893982</td>\n",
       "      <td>5.319099</td>\n",
       "      <td>6.680382</td>\n",
       "      <td>-0.117645</td>\n",
       "      <td>-0.124992</td>\n",
       "      <td>-0.069466</td>\n",
       "      <td>3.690363</td>\n",
       "      <td>-0.489016</td>\n",
       "      <td>9.700857</td>\n",
       "      <td>-0.951058</td>\n",
       "      <td>0.002826</td>\n",
       "      <td>-0.394709</td>\n",
       "    </tr>\n",
       "    <tr>\n",
       "      <th>3</th>\n",
       "      <td>1600</td>\n",
       "      <td>D</td>\n",
       "      <td>3.144974</td>\n",
       "      <td>5.069862</td>\n",
       "      <td>6.898590</td>\n",
       "      <td>-0.099030</td>\n",
       "      <td>-0.278305</td>\n",
       "      <td>-0.168076</td>\n",
       "      <td>3.696348</td>\n",
       "      <td>-1.513734</td>\n",
       "      <td>9.955838</td>\n",
       "      <td>0.093966</td>\n",
       "      <td>-0.151637</td>\n",
       "      <td>-0.194440</td>\n",
       "    </tr>\n",
       "    <tr>\n",
       "      <th>4</th>\n",
       "      <td>1600</td>\n",
       "      <td>D</td>\n",
       "      <td>3.806053</td>\n",
       "      <td>5.191299</td>\n",
       "      <td>6.719978</td>\n",
       "      <td>-0.060028</td>\n",
       "      <td>-0.387566</td>\n",
       "      <td>-0.187050</td>\n",
       "      <td>1.991677</td>\n",
       "      <td>0.347758</td>\n",
       "      <td>8.993370</td>\n",
       "      <td>0.471070</td>\n",
       "      <td>0.106689</td>\n",
       "      <td>0.020211</td>\n",
       "    </tr>\n",
       "    <tr>\n",
       "      <th>...</th>\n",
       "      <td>...</td>\n",
       "      <td>...</td>\n",
       "      <td>...</td>\n",
       "      <td>...</td>\n",
       "      <td>...</td>\n",
       "      <td>...</td>\n",
       "      <td>...</td>\n",
       "      <td>...</td>\n",
       "      <td>...</td>\n",
       "      <td>...</td>\n",
       "      <td>...</td>\n",
       "      <td>...</td>\n",
       "      <td>...</td>\n",
       "      <td>...</td>\n",
       "    </tr>\n",
       "    <tr>\n",
       "      <th>32367</th>\n",
       "      <td>1600</td>\n",
       "      <td>G</td>\n",
       "      <td>5.088089</td>\n",
       "      <td>3.683456</td>\n",
       "      <td>6.767967</td>\n",
       "      <td>-0.005951</td>\n",
       "      <td>-0.005196</td>\n",
       "      <td>0.001648</td>\n",
       "      <td>-7.880515</td>\n",
       "      <td>-0.080505</td>\n",
       "      <td>4.547936</td>\n",
       "      <td>1.216038</td>\n",
       "      <td>-0.568251</td>\n",
       "      <td>1.049086</td>\n",
       "    </tr>\n",
       "    <tr>\n",
       "      <th>32368</th>\n",
       "      <td>1600</td>\n",
       "      <td>G</td>\n",
       "      <td>5.088089</td>\n",
       "      <td>3.683456</td>\n",
       "      <td>6.767967</td>\n",
       "      <td>-0.005951</td>\n",
       "      <td>-0.005196</td>\n",
       "      <td>0.001648</td>\n",
       "      <td>-7.703344</td>\n",
       "      <td>-0.254085</td>\n",
       "      <td>3.712359</td>\n",
       "      <td>-0.284923</td>\n",
       "      <td>-0.215646</td>\n",
       "      <td>-0.616988</td>\n",
       "    </tr>\n",
       "    <tr>\n",
       "      <th>32369</th>\n",
       "      <td>1600</td>\n",
       "      <td>G</td>\n",
       "      <td>5.088089</td>\n",
       "      <td>3.683456</td>\n",
       "      <td>6.767967</td>\n",
       "      <td>-0.005951</td>\n",
       "      <td>-0.005196</td>\n",
       "      <td>0.001648</td>\n",
       "      <td>-9.665392</td>\n",
       "      <td>-4.774337</td>\n",
       "      <td>4.340837</td>\n",
       "      <td>-0.108092</td>\n",
       "      <td>0.152938</td>\n",
       "      <td>-0.113119</td>\n",
       "    </tr>\n",
       "    <tr>\n",
       "      <th>32370</th>\n",
       "      <td>1600</td>\n",
       "      <td>G</td>\n",
       "      <td>5.088089</td>\n",
       "      <td>3.683456</td>\n",
       "      <td>6.767967</td>\n",
       "      <td>-0.005951</td>\n",
       "      <td>-0.005196</td>\n",
       "      <td>0.001648</td>\n",
       "      <td>-7.997831</td>\n",
       "      <td>1.347636</td>\n",
       "      <td>3.767426</td>\n",
       "      <td>1.479152</td>\n",
       "      <td>-0.146401</td>\n",
       "      <td>0.906340</td>\n",
       "    </tr>\n",
       "    <tr>\n",
       "      <th>32371</th>\n",
       "      <td>1600</td>\n",
       "      <td>G</td>\n",
       "      <td>5.088089</td>\n",
       "      <td>3.683456</td>\n",
       "      <td>6.767967</td>\n",
       "      <td>-0.005951</td>\n",
       "      <td>-0.005196</td>\n",
       "      <td>0.001648</td>\n",
       "      <td>-7.839813</td>\n",
       "      <td>-0.222960</td>\n",
       "      <td>3.755455</td>\n",
       "      <td>-0.257229</td>\n",
       "      <td>-0.122966</td>\n",
       "      <td>-0.968526</td>\n",
       "    </tr>\n",
       "  </tbody>\n",
       "</table>\n",
       "<p>32372 rows × 14 columns</p>\n",
       "</div>"
      ],
      "text/plain": [
       "      Participant ID_ap Activity Label_ap      X_ap      Y_ap      Z_ap  \\\n",
       "0                  1600                 D  3.258324  5.493607  6.634514   \n",
       "1                  1600                 D  2.946350  5.244820  6.667236   \n",
       "2                  1600                 D  2.893982  5.319099  6.680382   \n",
       "3                  1600                 D  3.144974  5.069862  6.898590   \n",
       "4                  1600                 D  3.806053  5.191299  6.719978   \n",
       "...                 ...               ...       ...       ...       ...   \n",
       "32367              1600                 G  5.088089  3.683456  6.767967   \n",
       "32368              1600                 G  5.088089  3.683456  6.767967   \n",
       "32369              1600                 G  5.088089  3.683456  6.767967   \n",
       "32370              1600                 G  5.088089  3.683456  6.767967   \n",
       "32371              1600                 G  5.088089  3.683456  6.767967   \n",
       "\n",
       "           X_gp      Y_gp      Z_gp      X_aw      Y_aw       Z_aw      X_gw  \\\n",
       "0     -0.060081  0.017090 -0.062134  2.851195 -2.246360  12.376376 -1.636556   \n",
       "1     -0.257187 -0.057037 -0.097466  2.381931 -2.665345  11.951406 -0.146784   \n",
       "2     -0.117645 -0.124992 -0.069466  3.690363 -0.489016   9.700857 -0.951058   \n",
       "3     -0.099030 -0.278305 -0.168076  3.696348 -1.513734   9.955838  0.093966   \n",
       "4     -0.060028 -0.387566 -0.187050  1.991677  0.347758   8.993370  0.471070   \n",
       "...         ...       ...       ...       ...       ...        ...       ...   \n",
       "32367 -0.005951 -0.005196  0.001648 -7.880515 -0.080505   4.547936  1.216038   \n",
       "32368 -0.005951 -0.005196  0.001648 -7.703344 -0.254085   3.712359 -0.284923   \n",
       "32369 -0.005951 -0.005196  0.001648 -9.665392 -4.774337   4.340837 -0.108092   \n",
       "32370 -0.005951 -0.005196  0.001648 -7.997831  1.347636   3.767426  1.479152   \n",
       "32371 -0.005951 -0.005196  0.001648 -7.839813 -0.222960   3.755455 -0.257229   \n",
       "\n",
       "           Y_gw      Z_gw  \n",
       "0     -1.407051 -1.757183  \n",
       "1     -0.948455 -0.025063  \n",
       "2      0.002826 -0.394709  \n",
       "3     -0.151637 -0.194440  \n",
       "4      0.106689  0.020211  \n",
       "...         ...       ...  \n",
       "32367 -0.568251  1.049086  \n",
       "32368 -0.215646 -0.616988  \n",
       "32369  0.152938 -0.113119  \n",
       "32370 -0.146401  0.906340  \n",
       "32371 -0.122966 -0.968526  \n",
       "\n",
       "[32372 rows x 14 columns]"
      ]
     },
     "execution_count": 14,
     "metadata": {},
     "output_type": "execute_result"
    }
   ],
   "source": [
    "participant_list[0]"
   ]
  },
  {
   "cell_type": "markdown",
   "id": "e599c9b5",
   "metadata": {},
   "source": [
    "# Time Series Classifier Cleaning\n",
    "- Want each participant subdivdided by the actions they are performing"
   ]
  },
  {
   "cell_type": "code",
   "execution_count": 15,
   "id": "66630e03",
   "metadata": {},
   "outputs": [],
   "source": [
    "def Classifier_Data(participant_list):\n",
    "    \n",
    "    master_list = []\n",
    "\n",
    "    for n in range(51):\n",
    "        unique_activity_list = sorted(participant_list[n]['Activity Label_ap'].unique())\n",
    "        for i in unique_activity_list:\n",
    "            master_list.append(participant_list[n][participant_list[n].iloc[:,1] == i])\n",
    "    return master_list"
   ]
  },
  {
   "cell_type": "code",
   "execution_count": 16,
   "id": "d58950c4",
   "metadata": {},
   "outputs": [],
   "source": [
    "classifier_data = Classifier_Data(participant_list)"
   ]
  },
  {
   "cell_type": "code",
   "execution_count": 17,
   "id": "6a2d5f85",
   "metadata": {},
   "outputs": [
    {
     "data": {
      "text/html": [
       "<div>\n",
       "<style scoped>\n",
       "    .dataframe tbody tr th:only-of-type {\n",
       "        vertical-align: middle;\n",
       "    }\n",
       "\n",
       "    .dataframe tbody tr th {\n",
       "        vertical-align: top;\n",
       "    }\n",
       "\n",
       "    .dataframe thead th {\n",
       "        text-align: right;\n",
       "    }\n",
       "</style>\n",
       "<table border=\"1\" class=\"dataframe\">\n",
       "  <thead>\n",
       "    <tr style=\"text-align: right;\">\n",
       "      <th></th>\n",
       "      <th>Participant ID_ap</th>\n",
       "      <th>Activity Label_ap</th>\n",
       "      <th>X_ap</th>\n",
       "      <th>Y_ap</th>\n",
       "      <th>Z_ap</th>\n",
       "      <th>X_gp</th>\n",
       "      <th>Y_gp</th>\n",
       "      <th>Z_gp</th>\n",
       "      <th>X_aw</th>\n",
       "      <th>Y_aw</th>\n",
       "      <th>Z_aw</th>\n",
       "      <th>X_gw</th>\n",
       "      <th>Y_gw</th>\n",
       "      <th>Z_gw</th>\n",
       "    </tr>\n",
       "  </thead>\n",
       "  <tbody>\n",
       "    <tr>\n",
       "      <th>19772</th>\n",
       "      <td>1600</td>\n",
       "      <td>A</td>\n",
       "      <td>-3.248566</td>\n",
       "      <td>13.644813</td>\n",
       "      <td>-2.570679</td>\n",
       "      <td>-0.853210</td>\n",
       "      <td>0.297226</td>\n",
       "      <td>0.890182</td>\n",
       "      <td>6.755240</td>\n",
       "      <td>1.888726</td>\n",
       "      <td>0.408361</td>\n",
       "      <td>-0.336244</td>\n",
       "      <td>-0.843613</td>\n",
       "      <td>-1.565968</td>\n",
       "    </tr>\n",
       "    <tr>\n",
       "      <th>19773</th>\n",
       "      <td>1600</td>\n",
       "      <td>A</td>\n",
       "      <td>0.623505</td>\n",
       "      <td>11.416816</td>\n",
       "      <td>-0.124901</td>\n",
       "      <td>-0.797653</td>\n",
       "      <td>0.201981</td>\n",
       "      <td>-0.060890</td>\n",
       "      <td>6.300342</td>\n",
       "      <td>-14.725838</td>\n",
       "      <td>7.379079</td>\n",
       "      <td>1.245674</td>\n",
       "      <td>1.361484</td>\n",
       "      <td>-3.303948</td>\n",
       "    </tr>\n",
       "    <tr>\n",
       "      <th>19774</th>\n",
       "      <td>1600</td>\n",
       "      <td>A</td>\n",
       "      <td>-1.067711</td>\n",
       "      <td>4.486588</td>\n",
       "      <td>0.848137</td>\n",
       "      <td>-0.476067</td>\n",
       "      <td>1.215118</td>\n",
       "      <td>-0.227402</td>\n",
       "      <td>3.332729</td>\n",
       "      <td>-12.225093</td>\n",
       "      <td>11.506683</td>\n",
       "      <td>0.217161</td>\n",
       "      <td>0.150811</td>\n",
       "      <td>-2.179028</td>\n",
       "    </tr>\n",
       "    <tr>\n",
       "      <th>19775</th>\n",
       "      <td>1600</td>\n",
       "      <td>A</td>\n",
       "      <td>-0.520569</td>\n",
       "      <td>5.622185</td>\n",
       "      <td>2.098587</td>\n",
       "      <td>-0.048988</td>\n",
       "      <td>0.469101</td>\n",
       "      <td>0.338684</td>\n",
       "      <td>-4.740520</td>\n",
       "      <td>-5.313033</td>\n",
       "      <td>5.930587</td>\n",
       "      <td>0.253380</td>\n",
       "      <td>1.199031</td>\n",
       "      <td>-1.766771</td>\n",
       "    </tr>\n",
       "    <tr>\n",
       "      <th>19776</th>\n",
       "      <td>1600</td>\n",
       "      <td>A</td>\n",
       "      <td>-0.142006</td>\n",
       "      <td>12.647346</td>\n",
       "      <td>2.821198</td>\n",
       "      <td>-0.033569</td>\n",
       "      <td>-0.065369</td>\n",
       "      <td>0.109596</td>\n",
       "      <td>-6.218939</td>\n",
       "      <td>-1.895310</td>\n",
       "      <td>4.587440</td>\n",
       "      <td>0.653919</td>\n",
       "      <td>0.572656</td>\n",
       "      <td>1.043397</td>\n",
       "    </tr>\n",
       "    <tr>\n",
       "      <th>...</th>\n",
       "      <td>...</td>\n",
       "      <td>...</td>\n",
       "      <td>...</td>\n",
       "      <td>...</td>\n",
       "      <td>...</td>\n",
       "      <td>...</td>\n",
       "      <td>...</td>\n",
       "      <td>...</td>\n",
       "      <td>...</td>\n",
       "      <td>...</td>\n",
       "      <td>...</td>\n",
       "      <td>...</td>\n",
       "      <td>...</td>\n",
       "      <td>...</td>\n",
       "    </tr>\n",
       "    <tr>\n",
       "      <th>21565</th>\n",
       "      <td>1600</td>\n",
       "      <td>A</td>\n",
       "      <td>-1.768044</td>\n",
       "      <td>4.691612</td>\n",
       "      <td>2.122383</td>\n",
       "      <td>-0.319748</td>\n",
       "      <td>0.826981</td>\n",
       "      <td>0.081169</td>\n",
       "      <td>12.245145</td>\n",
       "      <td>-0.499490</td>\n",
       "      <td>-0.232088</td>\n",
       "      <td>-0.531085</td>\n",
       "      <td>1.695905</td>\n",
       "      <td>3.748652</td>\n",
       "    </tr>\n",
       "    <tr>\n",
       "      <th>21566</th>\n",
       "      <td>1600</td>\n",
       "      <td>A</td>\n",
       "      <td>-3.118202</td>\n",
       "      <td>12.533974</td>\n",
       "      <td>3.883759</td>\n",
       "      <td>0.346977</td>\n",
       "      <td>0.035561</td>\n",
       "      <td>0.088501</td>\n",
       "      <td>6.621165</td>\n",
       "      <td>-0.967557</td>\n",
       "      <td>-0.582839</td>\n",
       "      <td>1.553638</td>\n",
       "      <td>1.006146</td>\n",
       "      <td>2.482586</td>\n",
       "    </tr>\n",
       "    <tr>\n",
       "      <th>21567</th>\n",
       "      <td>1600</td>\n",
       "      <td>A</td>\n",
       "      <td>-2.970428</td>\n",
       "      <td>11.850708</td>\n",
       "      <td>2.795975</td>\n",
       "      <td>-0.562012</td>\n",
       "      <td>-0.525436</td>\n",
       "      <td>-0.500900</td>\n",
       "      <td>5.987898</td>\n",
       "      <td>-0.093673</td>\n",
       "      <td>-1.419612</td>\n",
       "      <td>1.528072</td>\n",
       "      <td>0.796289</td>\n",
       "      <td>0.513444</td>\n",
       "    </tr>\n",
       "    <tr>\n",
       "      <th>21568</th>\n",
       "      <td>1600</td>\n",
       "      <td>A</td>\n",
       "      <td>-2.340706</td>\n",
       "      <td>8.645592</td>\n",
       "      <td>0.313942</td>\n",
       "      <td>0.403038</td>\n",
       "      <td>-0.129341</td>\n",
       "      <td>-0.224159</td>\n",
       "      <td>8.402451</td>\n",
       "      <td>-1.795951</td>\n",
       "      <td>-1.931971</td>\n",
       "      <td>-0.467701</td>\n",
       "      <td>-0.183754</td>\n",
       "      <td>-1.462089</td>\n",
       "    </tr>\n",
       "    <tr>\n",
       "      <th>21569</th>\n",
       "      <td>1600</td>\n",
       "      <td>A</td>\n",
       "      <td>-5.590866</td>\n",
       "      <td>7.878555</td>\n",
       "      <td>-1.570725</td>\n",
       "      <td>0.966415</td>\n",
       "      <td>-0.180481</td>\n",
       "      <td>-0.299026</td>\n",
       "      <td>14.998476</td>\n",
       "      <td>-1.433229</td>\n",
       "      <td>0.547225</td>\n",
       "      <td>-1.024835</td>\n",
       "      <td>-2.461289</td>\n",
       "      <td>-2.481014</td>\n",
       "    </tr>\n",
       "  </tbody>\n",
       "</table>\n",
       "<p>1798 rows × 14 columns</p>\n",
       "</div>"
      ],
      "text/plain": [
       "      Participant ID_ap Activity Label_ap      X_ap       Y_ap      Z_ap  \\\n",
       "19772              1600                 A -3.248566  13.644813 -2.570679   \n",
       "19773              1600                 A  0.623505  11.416816 -0.124901   \n",
       "19774              1600                 A -1.067711   4.486588  0.848137   \n",
       "19775              1600                 A -0.520569   5.622185  2.098587   \n",
       "19776              1600                 A -0.142006  12.647346  2.821198   \n",
       "...                 ...               ...       ...        ...       ...   \n",
       "21565              1600                 A -1.768044   4.691612  2.122383   \n",
       "21566              1600                 A -3.118202  12.533974  3.883759   \n",
       "21567              1600                 A -2.970428  11.850708  2.795975   \n",
       "21568              1600                 A -2.340706   8.645592  0.313942   \n",
       "21569              1600                 A -5.590866   7.878555 -1.570725   \n",
       "\n",
       "           X_gp      Y_gp      Z_gp       X_aw       Y_aw       Z_aw  \\\n",
       "19772 -0.853210  0.297226  0.890182   6.755240   1.888726   0.408361   \n",
       "19773 -0.797653  0.201981 -0.060890   6.300342 -14.725838   7.379079   \n",
       "19774 -0.476067  1.215118 -0.227402   3.332729 -12.225093  11.506683   \n",
       "19775 -0.048988  0.469101  0.338684  -4.740520  -5.313033   5.930587   \n",
       "19776 -0.033569 -0.065369  0.109596  -6.218939  -1.895310   4.587440   \n",
       "...         ...       ...       ...        ...        ...        ...   \n",
       "21565 -0.319748  0.826981  0.081169  12.245145  -0.499490  -0.232088   \n",
       "21566  0.346977  0.035561  0.088501   6.621165  -0.967557  -0.582839   \n",
       "21567 -0.562012 -0.525436 -0.500900   5.987898  -0.093673  -1.419612   \n",
       "21568  0.403038 -0.129341 -0.224159   8.402451  -1.795951  -1.931971   \n",
       "21569  0.966415 -0.180481 -0.299026  14.998476  -1.433229   0.547225   \n",
       "\n",
       "           X_gw      Y_gw      Z_gw  \n",
       "19772 -0.336244 -0.843613 -1.565968  \n",
       "19773  1.245674  1.361484 -3.303948  \n",
       "19774  0.217161  0.150811 -2.179028  \n",
       "19775  0.253380  1.199031 -1.766771  \n",
       "19776  0.653919  0.572656  1.043397  \n",
       "...         ...       ...       ...  \n",
       "21565 -0.531085  1.695905  3.748652  \n",
       "21566  1.553638  1.006146  2.482586  \n",
       "21567  1.528072  0.796289  0.513444  \n",
       "21568 -0.467701 -0.183754 -1.462089  \n",
       "21569 -1.024835 -2.461289 -2.481014  \n",
       "\n",
       "[1798 rows x 14 columns]"
      ]
     },
     "execution_count": 17,
     "metadata": {},
     "output_type": "execute_result"
    }
   ],
   "source": [
    "classifier_data[0]"
   ]
  },
  {
   "cell_type": "code",
   "execution_count": 18,
   "id": "498992f0",
   "metadata": {},
   "outputs": [],
   "source": [
    "# problem with index numbers chaning"
   ]
  },
  {
   "cell_type": "code",
   "execution_count": 19,
   "id": "c05c7645",
   "metadata": {},
   "outputs": [
    {
     "data": {
      "text/plain": [
       "'A'"
      ]
     },
     "execution_count": 19,
     "metadata": {},
     "output_type": "execute_result"
    }
   ],
   "source": [
    "df = classifier_data[0]['Activity Label_ap']\n",
    "df = df.reset_index().drop(columns = 'index')\n",
    "df['Activity Label_ap'][0]"
   ]
  },
  {
   "cell_type": "code",
   "execution_count": 20,
   "id": "b8390d06",
   "metadata": {},
   "outputs": [],
   "source": [
    "def X_Classifier(data):\n",
    "    X_list = []\n",
    "    \n",
    "    for participant in data:\n",
    "        X = participant.drop(columns = ['Activity Label_ap', 'Participant ID_ap'])\n",
    "        X_list.append(np.array(X))\n",
    "        \n",
    "    return np.array(X_list)"
   ]
  },
  {
   "cell_type": "code",
   "execution_count": 21,
   "id": "f934ea72",
   "metadata": {},
   "outputs": [],
   "source": [
    "X_classifier_data = X_Classifier(classifier_data)"
   ]
  },
  {
   "cell_type": "code",
   "execution_count": 22,
   "id": "481214f8",
   "metadata": {
    "scrolled": true
   },
   "outputs": [
    {
     "data": {
      "text/plain": [
       "(12, 1798)"
      ]
     },
     "execution_count": 22,
     "metadata": {},
     "output_type": "execute_result"
    }
   ],
   "source": [
    "X_classifier_data[0].T.shape"
   ]
  },
  {
   "cell_type": "code",
   "execution_count": 23,
   "id": "9f9c5e6e",
   "metadata": {},
   "outputs": [
    {
     "name": "stdout",
     "output_type": "stream",
     "text": [
      "Max length to pad:  3618\n"
     ]
    }
   ],
   "source": [
    "# Find the max number of entries per class per across all participants\n",
    "\n",
    "length_list = []\n",
    "for i in range(907): #907 unique entries per class per pariticipant in classifier_data\n",
    "    length_list.append(len(X_classifier_data[i]))\n",
    "length_list.sort(reverse = True)\n",
    "print(\"Max length to pad: \", length_list[0])"
   ]
  },
  {
   "cell_type": "code",
   "execution_count": 24,
   "id": "dbfcf895",
   "metadata": {},
   "outputs": [],
   "source": [
    "pad = keras.preprocessing.sequence.pad_sequences(X_classifier_data[0].T, padding = \"post\", maxlen = 3618, dtype='float32')"
   ]
  },
  {
   "cell_type": "code",
   "execution_count": 25,
   "id": "5afb68b7",
   "metadata": {},
   "outputs": [],
   "source": [
    "def PaddingClass(data):\n",
    "    data = np.array(data)\n",
    "    \n",
    "    master_list = []\n",
    "    \n",
    "    for user in data:\n",
    "        pad = keras.preprocessing.sequence.pad_sequences(user.T, padding = \"post\", maxlen = 3618, dtype='float32')\n",
    "        master_list.append(pad)\n",
    "    return master_list"
   ]
  },
  {
   "cell_type": "code",
   "execution_count": 26,
   "id": "7406c0a0",
   "metadata": {},
   "outputs": [],
   "source": [
    "X_class_pad = PaddingClass(X_classifier_data)"
   ]
  },
  {
   "cell_type": "code",
   "execution_count": 27,
   "id": "2df74742",
   "metadata": {},
   "outputs": [
    {
     "data": {
      "text/plain": [
       "array([[-3.2485657 ,  0.62350464, -1.0677109 , ...,  0.        ,\n",
       "         0.        ,  0.        ],\n",
       "       [13.644814  , 11.416817  ,  4.4865875 , ...,  0.        ,\n",
       "         0.        ,  0.        ],\n",
       "       [-2.5706787 , -0.12490082,  0.8481369 , ...,  0.        ,\n",
       "         0.        ,  0.        ],\n",
       "       ...,\n",
       "       [-0.33624405,  1.2456737 ,  0.2171608 , ...,  0.        ,\n",
       "         0.        ,  0.        ],\n",
       "       [-0.8436135 ,  1.3614838 ,  0.15081082, ...,  0.        ,\n",
       "         0.        ,  0.        ],\n",
       "       [-1.5659685 , -3.3039477 , -2.1790283 , ...,  0.        ,\n",
       "         0.        ,  0.        ]], dtype=float32)"
      ]
     },
     "execution_count": 27,
     "metadata": {},
     "output_type": "execute_result"
    }
   ],
   "source": [
    "X_class_pad[0]"
   ]
  },
  {
   "cell_type": "code",
   "execution_count": 28,
   "id": "3bb84a21",
   "metadata": {},
   "outputs": [],
   "source": [
    "#Prepare data to be saved for modeling\n",
    "X_class = []\n",
    "\n",
    "#transpose to get shape (user, timestamp, # of features)\n",
    "#convert to tensor\n",
    "\n",
    "for entry in X_class_pad:\n",
    "    tensor = tf.convert_to_tensor(entry.T)\n",
    "    X_class.append(tensor)"
   ]
  },
  {
   "cell_type": "markdown",
   "id": "ef59b185",
   "metadata": {},
   "source": [
    "## Y Classifier Data"
   ]
  },
  {
   "cell_type": "code",
   "execution_count": 29,
   "id": "e62e1235",
   "metadata": {},
   "outputs": [],
   "source": [
    "def Y_Classifier(data):\n",
    "    class_list = []\n",
    "    for i in data:\n",
    "        df = i['Activity Label_ap']\n",
    "        df = df.reset_index().drop(columns = 'index')\n",
    "        label = df['Activity Label_ap'][0]\n",
    "        class_list.append(label)\n",
    "    return class_list"
   ]
  },
  {
   "cell_type": "code",
   "execution_count": 30,
   "id": "04f607fa",
   "metadata": {},
   "outputs": [
    {
     "name": "stdout",
     "output_type": "stream",
     "text": [
      "Data Length:  907\n",
      "Label Length:  907\n"
     ]
    }
   ],
   "source": [
    "class_list = Y_Classifier(classifier_data)\n",
    "\n",
    "#There should be the same number of labels as individual time series\n",
    "print(\"Data Length: \", len(X_class))\n",
    "print(\"Label Length: \", len(class_list))\n",
    "\n",
    "#Make sure these match"
   ]
  },
  {
   "cell_type": "code",
   "execution_count": 31,
   "id": "0a089474",
   "metadata": {},
   "outputs": [],
   "source": [
    "#Need to numerically encode and then OHE the class labels"
   ]
  },
  {
   "cell_type": "code",
   "execution_count": 32,
   "id": "2482cd26",
   "metadata": {},
   "outputs": [],
   "source": [
    "def Label_Prep_Class(data):\n",
    "    \n",
    "    master_list = []\n",
    "    label_encoder = LabelEncoder().fit(data)\n",
    "    \n",
    "    integer_encoded = label_encoder.transform(data)\n",
    "    master_list.append(integer_encoded)\n",
    "\n",
    "    return master_list"
   ]
  },
  {
   "cell_type": "code",
   "execution_count": 33,
   "id": "c54eb1bb",
   "metadata": {},
   "outputs": [],
   "source": [
    "#Numerically Encode String Class Labels\n",
    "Y_class_numbers = Label_Prep_Class(class_list)"
   ]
  },
  {
   "cell_type": "code",
   "execution_count": 34,
   "id": "7ec2684a",
   "metadata": {},
   "outputs": [],
   "source": [
    "def OHE_Class(data):\n",
    "    ohe = OneHotEncoder()\n",
    "    ohe.fit(data[0].reshape(-1,1))\n",
    "    \n",
    "    master_list = []\n",
    "    for user in data[0]:\n",
    "        sparse_matrix = ohe.transform(user.reshape(-1, 1))\n",
    "        master_list.append(sparse_matrix)\n",
    "    return master_list"
   ]
  },
  {
   "cell_type": "code",
   "execution_count": 35,
   "id": "9a43e2d4",
   "metadata": {},
   "outputs": [
    {
     "data": {
      "text/plain": [
       "matrix([[0., 0., 0., 0., 0., 0., 0., 0., 0., 0., 0., 0., 0., 0., 0., 0.,\n",
       "         0., 1.]])"
      ]
     },
     "execution_count": 35,
     "metadata": {},
     "output_type": "execute_result"
    }
   ],
   "source": [
    "#OHE class labels, now in coded numerically\n",
    "Y_class_ohe = OHE_Class(Y_class_numbers)\n",
    "\n",
    "#check to see that it worked, should be a 1 in the final spot\n",
    "Y_class_ohe[17].todense()"
   ]
  },
  {
   "cell_type": "markdown",
   "id": "a07df876",
   "metadata": {},
   "source": [
    "- Now Data is all ready to go for the time series classifier model!"
   ]
  },
  {
   "cell_type": "markdown",
   "id": "adb71f84",
   "metadata": {},
   "source": [
    "# State Prediciton Model Data Prep"
   ]
  },
  {
   "cell_type": "markdown",
   "id": "f1a39053",
   "metadata": {},
   "source": [
    "## Reformatting Data to Extract only Relevant Details\n",
    "- We want the X, Y, Z data from each type of sensor for each participants (12 different columns)\n",
    "- And we want the activity label class from the dependent variable\n",
    "- Because each participant's 54 minutes of data (~3 minutes per activity) will be padded to idnentical sequence lenghts with their associated labe;s, the time stamps become irrelevant\n",
    "- the timestamps in this data set were not synchronous among participants, though the amount of time spent performing each activity was roughly the same"
   ]
  },
  {
   "cell_type": "code",
   "execution_count": 36,
   "id": "9e3e6a8d",
   "metadata": {},
   "outputs": [],
   "source": [
    "def DataCreator(data):\n",
    "    X_list = []\n",
    "    Y_list = []\n",
    "    for participant in data:\n",
    "        X = participant.drop(columns = ['Activity Label_ap', 'Participant ID_ap'])\n",
    "        Y = participant.iloc[:, 1]\n",
    "        X_list.append(np.array(X))\n",
    "        Y_list.append(np.array(Y))\n",
    "        \n",
    "    return np.array(X_list), np.array(Y_list)"
   ]
  },
  {
   "cell_type": "code",
   "execution_count": 37,
   "id": "116390c5",
   "metadata": {},
   "outputs": [],
   "source": [
    "X, Y = DataCreator(participant_list)\n",
    "X = [i.T for i in X]"
   ]
  },
  {
   "cell_type": "code",
   "execution_count": 38,
   "id": "9b8e0d15",
   "metadata": {},
   "outputs": [
    {
     "name": "stdout",
     "output_type": "stream",
     "text": [
      "X shape:  (12, 32391)\n",
      "Y shape:  (32391,)\n"
     ]
    }
   ],
   "source": [
    "#check shapes, should share a same dimension representing indivudal time stamps per individual\n",
    "print(\"X shape: \", X[50].shape)\n",
    "print(\"Y shape: \", Y[50].shape)"
   ]
  },
  {
   "cell_type": "markdown",
   "id": "44b8d626",
   "metadata": {},
   "source": [
    "## Padding\n",
    "- Although each participant performed each activity for ~3 minutes, the exact number of data points differ slightly\n",
    "- The length of the arrays needs to be standardized to feed into the model\n",
    "- This can be done through padding them with zeros"
   ]
  },
  {
   "cell_type": "code",
   "execution_count": 39,
   "id": "1215c3a4",
   "metadata": {},
   "outputs": [
    {
     "name": "stdout",
     "output_type": "stream",
     "text": [
      "Max length to pad:  32409\n"
     ]
    }
   ],
   "source": [
    "length_list = []\n",
    "for i in participant_number:\n",
    "    length_list.append(len(participant_list[i]))\n",
    "length_list.sort(reverse = True)\n",
    "print(\"Max length to pad: \", length_list[0])"
   ]
  },
  {
   "cell_type": "markdown",
   "id": "e1486828",
   "metadata": {},
   "source": [
    "## Max Length\n",
    "- 32,409 is the maximum number of entries out of all of the data types and participants\n",
    "- It is the number we will used to pad the length of each entry"
   ]
  },
  {
   "cell_type": "code",
   "execution_count": 40,
   "id": "3060dac0",
   "metadata": {},
   "outputs": [],
   "source": [
    "def Padding(data):\n",
    "    master_list = []\n",
    "    \n",
    "    for user in data:\n",
    "        pad = keras.preprocessing.sequence.pad_sequences(user, padding = \"post\", maxlen = 32409, dtype='float32')\n",
    "        master_list.append(pad.T)\n",
    "    return master_list"
   ]
  },
  {
   "cell_type": "code",
   "execution_count": 41,
   "id": "0f4953ad",
   "metadata": {},
   "outputs": [],
   "source": [
    "#The X data has been created and is ready to save to be used for modelling!\n",
    "X_pad = Padding(X)"
   ]
  },
  {
   "cell_type": "code",
   "execution_count": 42,
   "id": "adc4dfab",
   "metadata": {
    "scrolled": true
   },
   "outputs": [
    {
     "data": {
      "text/plain": [
       "(32409, 12)"
      ]
     },
     "execution_count": 42,
     "metadata": {},
     "output_type": "execute_result"
    }
   ],
   "source": [
    "X_pad[0].shape"
   ]
  },
  {
   "cell_type": "code",
   "execution_count": 58,
   "id": "aac9a881",
   "metadata": {},
   "outputs": [
    {
     "data": {
      "image/png": "[encoded data removed]",
      "text/plain": [
       "<Figure size 864x288 with 1 Axes>"
      ]
     },
     "metadata": {
      "needs_background": "light"
     },
     "output_type": "display_data"
    }
   ],
   "source": [
    "fig = plt.figure(figsize=(12, 4))\n",
    "plt.plot(X_pad[0].T[0], color='red')\n",
    "plt.xlabel(\"Time\")\n",
    "plt.ylabel('Acceleration')\n",
    "plt.title('Accelerometer Phone X Data')\n",
    "plt.savefig('X_Accelerometer_Time_Series.png')\n",
    "plt.show();"
   ]
  },
  {
   "cell_type": "markdown",
   "id": "9ff150a3",
   "metadata": {},
   "source": [
    "## Convert to Numeric Sequence & Pad Sequence"
   ]
  },
  {
   "cell_type": "code",
   "execution_count": 45,
   "id": "9c51bb30",
   "metadata": {},
   "outputs": [],
   "source": [
    "def Label_Prep(data):\n",
    "    \n",
    "    master_list = []\n",
    "    output = []\n",
    "    label_encoder = LabelEncoder().fit(data[0])\n",
    "    \n",
    "    for user in data:\n",
    "        values_of_seq = np.array(user)\n",
    "        integer_encoded = label_encoder.transform(values_of_seq)\n",
    "        master_list.append(integer_encoded)\n",
    "        \n",
    "    for item in master_list:\n",
    "        pad = keras.preprocessing.sequence.pad_sequences(item.reshape(1,item.shape[0]), padding = \"post\", maxlen = 32409, dtype='int64', value= 18)\n",
    "        output.append(pad)\n",
    "    return output"
   ]
  },
  {
   "cell_type": "code",
   "execution_count": 46,
   "id": "9b2333a7",
   "metadata": {},
   "outputs": [],
   "source": [
    "# Now the Labels have been sequenced and padded to the max length \n",
    "Y_prep = Label_Prep(Y)"
   ]
  },
  {
   "cell_type": "markdown",
   "id": "c51e83ef",
   "metadata": {},
   "source": [
    "## One Hot Encoding into Sparse Matrices"
   ]
  },
  {
   "cell_type": "code",
   "execution_count": 47,
   "id": "55fae8f6",
   "metadata": {},
   "outputs": [],
   "source": [
    "def OHE(data):\n",
    "    ohe = OneHotEncoder()\n",
    "    ohe.fit(data[0].reshape(-1, 1))\n",
    "    master_list = []\n",
    "    for user in data:\n",
    "        sparse_matrix = ohe.transform(user.reshape(-1, 1))\n",
    "        master_list.append(sparse_matrix)\n",
    "    return master_list"
   ]
  },
  {
   "cell_type": "code",
   "execution_count": 48,
   "id": "94f20b48",
   "metadata": {},
   "outputs": [],
   "source": [
    "# Now all of the labels are One Hot Encoded and Ready to be fed into the model!\n",
    "Y_ohe = OHE(Y_prep)"
   ]
  },
  {
   "cell_type": "markdown",
   "id": "b41a9628",
   "metadata": {},
   "source": [
    "- Currently, we would have 51 entries with 32409 individual time stamps for each\n",
    "- Want more indivudal samples\n",
    "- split each pariticpant into 9 equal in length time series\n",
    "- 32409/9 = 3601, which is a long enough window of time to capture a change in activity\n",
    "- Instead of just 51 (one per participant), want to subdivide each person's entry by 9\n",
    "- 9*51 = 459 => should be the final number of time series entries"
   ]
  },
  {
   "cell_type": "code",
   "execution_count": 49,
   "id": "13c3bd10",
   "metadata": {},
   "outputs": [],
   "source": [
    "def DataParser(data):\n",
    "    master_list  = []\n",
    "\n",
    "    for user in data:\n",
    "        a = 0\n",
    "        b = 3601\n",
    "        \n",
    "        for i in range(9):\n",
    "            master_list.append(user[a:b])\n",
    "            a = b\n",
    "            b += 3601\n",
    "    return master_list"
   ]
  },
  {
   "cell_type": "code",
   "execution_count": 50,
   "id": "dcfe54e5",
   "metadata": {},
   "outputs": [
    {
     "name": "stdout",
     "output_type": "stream",
     "text": [
      "X Sequence Data Length:  459\n",
      "Y Sequence Data Length:  459\n"
     ]
    }
   ],
   "source": [
    "X_seq = DataParser(X_pad)\n",
    "print(\"X Sequence Data Length: \", len(X_seq)) # should equal 459\n",
    "\n",
    "Y_seq = DataParser(Y_ohe)\n",
    "print(\"Y Sequence Data Length: \", len(X_seq))"
   ]
  },
  {
   "cell_type": "markdown",
   "id": "0abaa7c8",
   "metadata": {},
   "source": [
    "# Save the Cleaned Data!\n",
    "- Now that the data has been cleaned and preprocessed, save it in a pickle file for easy recall in the modelling notebook"
   ]
  },
  {
   "cell_type": "code",
   "execution_count": 51,
   "id": "49fe83f1",
   "metadata": {},
   "outputs": [],
   "source": [
    "#X Classifier Data\n",
    "with open('X_class.pkl','wb') as f:\n",
    "    pickle.dump(X_class, f)\n",
    "    \n",
    "#Y Classifier Data\n",
    "with open('Y_class.pkl','wb') as f:\n",
    "    pickle.dump(Y_class_ohe, f)\n",
    "    \n",
    "#X Sequence Data\n",
    "with open('X_seq.pkl','wb') as f:\n",
    "    pickle.dump(X_seq, f) \n",
    "    \n",
    "#Y Sequence Data\n",
    "with open('Y_seq.pkl','wb') as f:\n",
    "    pickle.dump(Y_seq, f)    "
   ]
  }
 ],
 "metadata": {
  "kernelspec": {
   "display_name": "Python (learn-env)",
   "language": "python",
   "name": "learn-env"
  },
  "language_info": {
   "codemirror_mode": {
    "name": "ipython",
    "version": 3
   },
   "file_extension": ".py",
   "mimetype": "text/x-python",
   "name": "python",
   "nbconvert_exporter": "python",
   "pygments_lexer": "ipython3",
   "version": "3.8.5"
  }
 },
 "nbformat": 4,
 "nbformat_minor": 5
}
